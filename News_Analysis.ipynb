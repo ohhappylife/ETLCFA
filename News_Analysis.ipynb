{
  "nbformat": 4,
  "nbformat_minor": 0,
  "metadata": {
    "colab": {
      "provenance": [],
      "include_colab_link": true
    },
    "kernelspec": {
      "name": "python3",
      "display_name": "Python 3"
    },
    "language_info": {
      "name": "python"
    }
  },
  "cells": [
    {
      "cell_type": "markdown",
      "metadata": {
        "id": "view-in-github",
        "colab_type": "text"
      },
      "source": [
        "<a href=\"https://colab.research.google.com/github/ohhappylife/ETLCFA/blob/master/News_Analysis.ipynb\" target=\"_parent\"><img src=\"https://colab.research.google.com/assets/colab-badge.svg\" alt=\"Open In Colab\"/></a>"
      ]
    },
    {
      "cell_type": "markdown",
      "source": [
        "# News APIs Analysis\n",
        "### Purpose : \n",
        "To find a APIs that can satisfy the project requirements.\n",
        "\n",
        "### Sources :\n",
        "Bing News API, Google News API, NY Times API, News API, News Catcher API\n",
        "\n",
        "### Result : \n",
        "<B> News API seems to be a great choice, but it has a price concerns as a service providers only allows users to use their license for free in testing/IMPL environment (https://newsapi.org/pricing)</B>\n",
        "\n",
        "### Rationale : \n",
        "-- Bing News API: Bing News API collects small number of articles about different topics from domestic famous sources.\n",
        "\n",
        "-- Google News (third party): Google News API collect small number of articles about different topics from CNN / Fox News. \n",
        "\n",
        "-- NY Times: NY Times collects small number of articles about political / international topics from NY Time.\n",
        "\n",
        "-- News API: News API collects large number of articles about different topics from both domestic / international, famous / unfamous sources.\n",
        "\n",
        "-- News Catcher API: News Catcher API collects moderate number of articles about different topics from international / unfamous sources.\n",
        "\n",
        "\n"
      ],
      "metadata": {
        "id": "PeRm94_oSRj8"
      }
    },
    {
      "cell_type": "code",
      "execution_count": 1,
      "metadata": {
        "colab": {
          "base_uri": "https://localhost:8080/",
          "height": 73
        },
        "id": "wnUqnWybdz5E",
        "outputId": "7b78c045-8a4e-4629-a8b0-035969f2722a"
      },
      "outputs": [
        {
          "output_type": "display_data",
          "data": {
            "text/plain": [
              "<IPython.core.display.HTML object>"
            ],
            "text/html": [
              "\n",
              "     <input type=\"file\" id=\"files-97d315aa-20ce-482b-82e2-44715daae33c\" name=\"files[]\" multiple disabled\n",
              "        style=\"border:none\" />\n",
              "     <output id=\"result-97d315aa-20ce-482b-82e2-44715daae33c\">\n",
              "      Upload widget is only available when the cell has been executed in the\n",
              "      current browser session. Please rerun this cell to enable.\n",
              "      </output>\n",
              "      <script>// Copyright 2017 Google LLC\n",
              "//\n",
              "// Licensed under the Apache License, Version 2.0 (the \"License\");\n",
              "// you may not use this file except in compliance with the License.\n",
              "// You may obtain a copy of the License at\n",
              "//\n",
              "//      http://www.apache.org/licenses/LICENSE-2.0\n",
              "//\n",
              "// Unless required by applicable law or agreed to in writing, software\n",
              "// distributed under the License is distributed on an \"AS IS\" BASIS,\n",
              "// WITHOUT WARRANTIES OR CONDITIONS OF ANY KIND, either express or implied.\n",
              "// See the License for the specific language governing permissions and\n",
              "// limitations under the License.\n",
              "\n",
              "/**\n",
              " * @fileoverview Helpers for google.colab Python module.\n",
              " */\n",
              "(function(scope) {\n",
              "function span(text, styleAttributes = {}) {\n",
              "  const element = document.createElement('span');\n",
              "  element.textContent = text;\n",
              "  for (const key of Object.keys(styleAttributes)) {\n",
              "    element.style[key] = styleAttributes[key];\n",
              "  }\n",
              "  return element;\n",
              "}\n",
              "\n",
              "// Max number of bytes which will be uploaded at a time.\n",
              "const MAX_PAYLOAD_SIZE = 100 * 1024;\n",
              "\n",
              "function _uploadFiles(inputId, outputId) {\n",
              "  const steps = uploadFilesStep(inputId, outputId);\n",
              "  const outputElement = document.getElementById(outputId);\n",
              "  // Cache steps on the outputElement to make it available for the next call\n",
              "  // to uploadFilesContinue from Python.\n",
              "  outputElement.steps = steps;\n",
              "\n",
              "  return _uploadFilesContinue(outputId);\n",
              "}\n",
              "\n",
              "// This is roughly an async generator (not supported in the browser yet),\n",
              "// where there are multiple asynchronous steps and the Python side is going\n",
              "// to poll for completion of each step.\n",
              "// This uses a Promise to block the python side on completion of each step,\n",
              "// then passes the result of the previous step as the input to the next step.\n",
              "function _uploadFilesContinue(outputId) {\n",
              "  const outputElement = document.getElementById(outputId);\n",
              "  const steps = outputElement.steps;\n",
              "\n",
              "  const next = steps.next(outputElement.lastPromiseValue);\n",
              "  return Promise.resolve(next.value.promise).then((value) => {\n",
              "    // Cache the last promise value to make it available to the next\n",
              "    // step of the generator.\n",
              "    outputElement.lastPromiseValue = value;\n",
              "    return next.value.response;\n",
              "  });\n",
              "}\n",
              "\n",
              "/**\n",
              " * Generator function which is called between each async step of the upload\n",
              " * process.\n",
              " * @param {string} inputId Element ID of the input file picker element.\n",
              " * @param {string} outputId Element ID of the output display.\n",
              " * @return {!Iterable<!Object>} Iterable of next steps.\n",
              " */\n",
              "function* uploadFilesStep(inputId, outputId) {\n",
              "  const inputElement = document.getElementById(inputId);\n",
              "  inputElement.disabled = false;\n",
              "\n",
              "  const outputElement = document.getElementById(outputId);\n",
              "  outputElement.innerHTML = '';\n",
              "\n",
              "  const pickedPromise = new Promise((resolve) => {\n",
              "    inputElement.addEventListener('change', (e) => {\n",
              "      resolve(e.target.files);\n",
              "    });\n",
              "  });\n",
              "\n",
              "  const cancel = document.createElement('button');\n",
              "  inputElement.parentElement.appendChild(cancel);\n",
              "  cancel.textContent = 'Cancel upload';\n",
              "  const cancelPromise = new Promise((resolve) => {\n",
              "    cancel.onclick = () => {\n",
              "      resolve(null);\n",
              "    };\n",
              "  });\n",
              "\n",
              "  // Wait for the user to pick the files.\n",
              "  const files = yield {\n",
              "    promise: Promise.race([pickedPromise, cancelPromise]),\n",
              "    response: {\n",
              "      action: 'starting',\n",
              "    }\n",
              "  };\n",
              "\n",
              "  cancel.remove();\n",
              "\n",
              "  // Disable the input element since further picks are not allowed.\n",
              "  inputElement.disabled = true;\n",
              "\n",
              "  if (!files) {\n",
              "    return {\n",
              "      response: {\n",
              "        action: 'complete',\n",
              "      }\n",
              "    };\n",
              "  }\n",
              "\n",
              "  for (const file of files) {\n",
              "    const li = document.createElement('li');\n",
              "    li.append(span(file.name, {fontWeight: 'bold'}));\n",
              "    li.append(span(\n",
              "        `(${file.type || 'n/a'}) - ${file.size} bytes, ` +\n",
              "        `last modified: ${\n",
              "            file.lastModifiedDate ? file.lastModifiedDate.toLocaleDateString() :\n",
              "                                    'n/a'} - `));\n",
              "    const percent = span('0% done');\n",
              "    li.appendChild(percent);\n",
              "\n",
              "    outputElement.appendChild(li);\n",
              "\n",
              "    const fileDataPromise = new Promise((resolve) => {\n",
              "      const reader = new FileReader();\n",
              "      reader.onload = (e) => {\n",
              "        resolve(e.target.result);\n",
              "      };\n",
              "      reader.readAsArrayBuffer(file);\n",
              "    });\n",
              "    // Wait for the data to be ready.\n",
              "    let fileData = yield {\n",
              "      promise: fileDataPromise,\n",
              "      response: {\n",
              "        action: 'continue',\n",
              "      }\n",
              "    };\n",
              "\n",
              "    // Use a chunked sending to avoid message size limits. See b/62115660.\n",
              "    let position = 0;\n",
              "    do {\n",
              "      const length = Math.min(fileData.byteLength - position, MAX_PAYLOAD_SIZE);\n",
              "      const chunk = new Uint8Array(fileData, position, length);\n",
              "      position += length;\n",
              "\n",
              "      const base64 = btoa(String.fromCharCode.apply(null, chunk));\n",
              "      yield {\n",
              "        response: {\n",
              "          action: 'append',\n",
              "          file: file.name,\n",
              "          data: base64,\n",
              "        },\n",
              "      };\n",
              "\n",
              "      let percentDone = fileData.byteLength === 0 ?\n",
              "          100 :\n",
              "          Math.round((position / fileData.byteLength) * 100);\n",
              "      percent.textContent = `${percentDone}% done`;\n",
              "\n",
              "    } while (position < fileData.byteLength);\n",
              "  }\n",
              "\n",
              "  // All done.\n",
              "  yield {\n",
              "    response: {\n",
              "      action: 'complete',\n",
              "    }\n",
              "  };\n",
              "}\n",
              "\n",
              "scope.google = scope.google || {};\n",
              "scope.google.colab = scope.google.colab || {};\n",
              "scope.google.colab._files = {\n",
              "  _uploadFiles,\n",
              "  _uploadFilesContinue,\n",
              "};\n",
              "})(self);\n",
              "</script> "
            ]
          },
          "metadata": {}
        },
        {
          "output_type": "stream",
          "name": "stdout",
          "text": [
            "Saving merged_20230217.csv to merged_20230217.csv\n"
          ]
        }
      ],
      "source": [
        "from google.colab import files\n",
        "uploaded = files.upload()"
      ]
    },
    {
      "cell_type": "code",
      "source": [
        "import pandas as pd\n",
        "df = pd.read_csv('merged_20230217.csv')\n",
        "df.drop_duplicates(['camefrom', 'Title'], inplace = True)\n",
        "df = df[df['camefrom'] != 'politifact']"
      ],
      "metadata": {
        "id": "Gs2eRpoKd5c8"
      },
      "execution_count": 2,
      "outputs": []
    },
    {
      "cell_type": "code",
      "source": [
        "a = df.groupby('camefrom')['Author'].count()"
      ],
      "metadata": {
        "id": "hzpPGzAY5cFQ"
      },
      "execution_count": 3,
      "outputs": []
    },
    {
      "cell_type": "code",
      "source": [
        "g1 = pd.DataFrame(a)\n",
        "g1.reset_index(inplace = True)\n",
        "g1['percentage'] = ((g1['Author'] / a.reset_index()['Author'].sum()) * 100).astype(str).str[:5] + \"%\"\n",
        "g1.rename(columns={\"Author\": \"Numbers of Articles\", \"camefrom\": \"Source\"}, inplace = True)"
      ],
      "metadata": {
        "id": "rdT6qEB_5dNp"
      },
      "execution_count": 4,
      "outputs": []
    },
    {
      "cell_type": "markdown",
      "source": [
        "#1. Numbers of News Articles Collected\n",
        "- Keywords Used: Biden, Bruce Willis, Damar Hamlin Jacket, Frontotemporal Demantia, Google, Russia, Ryan Seacrest, Tiger Woods, Turkry, Layoffs\n",
        "- Max Numbers of Articles to be collected: 1000/keywords\n",
        "- Sources: Bing News, Google News, NY Times, News, News catcher\n",
        "- Result: 103, 83, 138, 711, 336"
      ],
      "metadata": {
        "id": "q0noTrjWK6_J"
      }
    },
    {
      "cell_type": "code",
      "source": [
        "import plotly.express as px\n",
        "fig = px.bar(g1, \n",
        "             x='Source', \n",
        "             y='Numbers of Articles', \n",
        "             title = 'Number of Data Collected from Sources (N = 1,371)',\n",
        "             text = 'percentage'\n",
        "             )\n",
        "fig.update_layout(\n",
        "             xaxis_title=\"Sources\",\n",
        "             yaxis_title=\"Number of Articles\"\n",
        "             )\n",
        "fig.show()"
      ],
      "metadata": {
        "colab": {
          "base_uri": "https://localhost:8080/",
          "height": 542
        },
        "id": "Ac0A-UKp5RoL",
        "outputId": "bf02f65e-0b4f-4353-f0a4-64e2e46cca63"
      },
      "execution_count": 11,
      "outputs": [
        {
          "output_type": "display_data",
          "data": {
            "text/html": [
              "<html>\n",
              "<head><meta charset=\"utf-8\" /></head>\n",
              "<body>\n",
              "    <div>            <script src=\"https://cdnjs.cloudflare.com/ajax/libs/mathjax/2.7.5/MathJax.js?config=TeX-AMS-MML_SVG\"></script><script type=\"text/javascript\">if (window.MathJax) {MathJax.Hub.Config({SVG: {font: \"STIX-Web\"}});}</script>                <script type=\"text/javascript\">window.PlotlyConfig = {MathJaxConfig: 'local'};</script>\n",
              "        <script src=\"https://cdn.plot.ly/plotly-2.8.3.min.js\"></script>                <div id=\"19fc6e97-c5ab-46b7-a577-5e12a44bb045\" class=\"plotly-graph-div\" style=\"height:525px; width:100%;\"></div>            <script type=\"text/javascript\">                                    window.PLOTLYENV=window.PLOTLYENV || {};                                    if (document.getElementById(\"19fc6e97-c5ab-46b7-a577-5e12a44bb045\")) {                    Plotly.newPlot(                        \"19fc6e97-c5ab-46b7-a577-5e12a44bb045\",                        [{\"alignmentgroup\":\"True\",\"hovertemplate\":\"Source=%{x}<br>Numbers of Articles=%{y}<br>percentage=%{text}<extra></extra>\",\"legendgroup\":\"\",\"marker\":{\"color\":\"#636efa\",\"pattern\":{\"shape\":\"\"}},\"name\":\"\",\"offsetgroup\":\"\",\"orientation\":\"v\",\"showlegend\":false,\"text\":[\"7.512%\",\"6.053%\",\"10.06%\",\"51.85%\",\"24.50%\"],\"textposition\":\"auto\",\"x\":[\"BingNews\",\"GoogleNews\",\"NYTimes\",\"newsAPI\",\"newsCatcher\"],\"xaxis\":\"x\",\"y\":[103,83,138,711,336],\"yaxis\":\"y\",\"type\":\"bar\"}],                        {\"template\":{\"data\":{\"bar\":[{\"error_x\":{\"color\":\"#2a3f5f\"},\"error_y\":{\"color\":\"#2a3f5f\"},\"marker\":{\"line\":{\"color\":\"#E5ECF6\",\"width\":0.5},\"pattern\":{\"fillmode\":\"overlay\",\"size\":10,\"solidity\":0.2}},\"type\":\"bar\"}],\"barpolar\":[{\"marker\":{\"line\":{\"color\":\"#E5ECF6\",\"width\":0.5},\"pattern\":{\"fillmode\":\"overlay\",\"size\":10,\"solidity\":0.2}},\"type\":\"barpolar\"}],\"carpet\":[{\"aaxis\":{\"endlinecolor\":\"#2a3f5f\",\"gridcolor\":\"white\",\"linecolor\":\"white\",\"minorgridcolor\":\"white\",\"startlinecolor\":\"#2a3f5f\"},\"baxis\":{\"endlinecolor\":\"#2a3f5f\",\"gridcolor\":\"white\",\"linecolor\":\"white\",\"minorgridcolor\":\"white\",\"startlinecolor\":\"#2a3f5f\"},\"type\":\"carpet\"}],\"choropleth\":[{\"colorbar\":{\"outlinewidth\":0,\"ticks\":\"\"},\"type\":\"choropleth\"}],\"contour\":[{\"colorbar\":{\"outlinewidth\":0,\"ticks\":\"\"},\"colorscale\":[[0.0,\"#0d0887\"],[0.1111111111111111,\"#46039f\"],[0.2222222222222222,\"#7201a8\"],[0.3333333333333333,\"#9c179e\"],[0.4444444444444444,\"#bd3786\"],[0.5555555555555556,\"#d8576b\"],[0.6666666666666666,\"#ed7953\"],[0.7777777777777778,\"#fb9f3a\"],[0.8888888888888888,\"#fdca26\"],[1.0,\"#f0f921\"]],\"type\":\"contour\"}],\"contourcarpet\":[{\"colorbar\":{\"outlinewidth\":0,\"ticks\":\"\"},\"type\":\"contourcarpet\"}],\"heatmap\":[{\"colorbar\":{\"outlinewidth\":0,\"ticks\":\"\"},\"colorscale\":[[0.0,\"#0d0887\"],[0.1111111111111111,\"#46039f\"],[0.2222222222222222,\"#7201a8\"],[0.3333333333333333,\"#9c179e\"],[0.4444444444444444,\"#bd3786\"],[0.5555555555555556,\"#d8576b\"],[0.6666666666666666,\"#ed7953\"],[0.7777777777777778,\"#fb9f3a\"],[0.8888888888888888,\"#fdca26\"],[1.0,\"#f0f921\"]],\"type\":\"heatmap\"}],\"heatmapgl\":[{\"colorbar\":{\"outlinewidth\":0,\"ticks\":\"\"},\"colorscale\":[[0.0,\"#0d0887\"],[0.1111111111111111,\"#46039f\"],[0.2222222222222222,\"#7201a8\"],[0.3333333333333333,\"#9c179e\"],[0.4444444444444444,\"#bd3786\"],[0.5555555555555556,\"#d8576b\"],[0.6666666666666666,\"#ed7953\"],[0.7777777777777778,\"#fb9f3a\"],[0.8888888888888888,\"#fdca26\"],[1.0,\"#f0f921\"]],\"type\":\"heatmapgl\"}],\"histogram\":[{\"marker\":{\"pattern\":{\"fillmode\":\"overlay\",\"size\":10,\"solidity\":0.2}},\"type\":\"histogram\"}],\"histogram2d\":[{\"colorbar\":{\"outlinewidth\":0,\"ticks\":\"\"},\"colorscale\":[[0.0,\"#0d0887\"],[0.1111111111111111,\"#46039f\"],[0.2222222222222222,\"#7201a8\"],[0.3333333333333333,\"#9c179e\"],[0.4444444444444444,\"#bd3786\"],[0.5555555555555556,\"#d8576b\"],[0.6666666666666666,\"#ed7953\"],[0.7777777777777778,\"#fb9f3a\"],[0.8888888888888888,\"#fdca26\"],[1.0,\"#f0f921\"]],\"type\":\"histogram2d\"}],\"histogram2dcontour\":[{\"colorbar\":{\"outlinewidth\":0,\"ticks\":\"\"},\"colorscale\":[[0.0,\"#0d0887\"],[0.1111111111111111,\"#46039f\"],[0.2222222222222222,\"#7201a8\"],[0.3333333333333333,\"#9c179e\"],[0.4444444444444444,\"#bd3786\"],[0.5555555555555556,\"#d8576b\"],[0.6666666666666666,\"#ed7953\"],[0.7777777777777778,\"#fb9f3a\"],[0.8888888888888888,\"#fdca26\"],[1.0,\"#f0f921\"]],\"type\":\"histogram2dcontour\"}],\"mesh3d\":[{\"colorbar\":{\"outlinewidth\":0,\"ticks\":\"\"},\"type\":\"mesh3d\"}],\"parcoords\":[{\"line\":{\"colorbar\":{\"outlinewidth\":0,\"ticks\":\"\"}},\"type\":\"parcoords\"}],\"pie\":[{\"automargin\":true,\"type\":\"pie\"}],\"scatter\":[{\"marker\":{\"colorbar\":{\"outlinewidth\":0,\"ticks\":\"\"}},\"type\":\"scatter\"}],\"scatter3d\":[{\"line\":{\"colorbar\":{\"outlinewidth\":0,\"ticks\":\"\"}},\"marker\":{\"colorbar\":{\"outlinewidth\":0,\"ticks\":\"\"}},\"type\":\"scatter3d\"}],\"scattercarpet\":[{\"marker\":{\"colorbar\":{\"outlinewidth\":0,\"ticks\":\"\"}},\"type\":\"scattercarpet\"}],\"scattergeo\":[{\"marker\":{\"colorbar\":{\"outlinewidth\":0,\"ticks\":\"\"}},\"type\":\"scattergeo\"}],\"scattergl\":[{\"marker\":{\"colorbar\":{\"outlinewidth\":0,\"ticks\":\"\"}},\"type\":\"scattergl\"}],\"scattermapbox\":[{\"marker\":{\"colorbar\":{\"outlinewidth\":0,\"ticks\":\"\"}},\"type\":\"scattermapbox\"}],\"scatterpolar\":[{\"marker\":{\"colorbar\":{\"outlinewidth\":0,\"ticks\":\"\"}},\"type\":\"scatterpolar\"}],\"scatterpolargl\":[{\"marker\":{\"colorbar\":{\"outlinewidth\":0,\"ticks\":\"\"}},\"type\":\"scatterpolargl\"}],\"scatterternary\":[{\"marker\":{\"colorbar\":{\"outlinewidth\":0,\"ticks\":\"\"}},\"type\":\"scatterternary\"}],\"surface\":[{\"colorbar\":{\"outlinewidth\":0,\"ticks\":\"\"},\"colorscale\":[[0.0,\"#0d0887\"],[0.1111111111111111,\"#46039f\"],[0.2222222222222222,\"#7201a8\"],[0.3333333333333333,\"#9c179e\"],[0.4444444444444444,\"#bd3786\"],[0.5555555555555556,\"#d8576b\"],[0.6666666666666666,\"#ed7953\"],[0.7777777777777778,\"#fb9f3a\"],[0.8888888888888888,\"#fdca26\"],[1.0,\"#f0f921\"]],\"type\":\"surface\"}],\"table\":[{\"cells\":{\"fill\":{\"color\":\"#EBF0F8\"},\"line\":{\"color\":\"white\"}},\"header\":{\"fill\":{\"color\":\"#C8D4E3\"},\"line\":{\"color\":\"white\"}},\"type\":\"table\"}]},\"layout\":{\"annotationdefaults\":{\"arrowcolor\":\"#2a3f5f\",\"arrowhead\":0,\"arrowwidth\":1},\"autotypenumbers\":\"strict\",\"coloraxis\":{\"colorbar\":{\"outlinewidth\":0,\"ticks\":\"\"}},\"colorscale\":{\"diverging\":[[0,\"#8e0152\"],[0.1,\"#c51b7d\"],[0.2,\"#de77ae\"],[0.3,\"#f1b6da\"],[0.4,\"#fde0ef\"],[0.5,\"#f7f7f7\"],[0.6,\"#e6f5d0\"],[0.7,\"#b8e186\"],[0.8,\"#7fbc41\"],[0.9,\"#4d9221\"],[1,\"#276419\"]],\"sequential\":[[0.0,\"#0d0887\"],[0.1111111111111111,\"#46039f\"],[0.2222222222222222,\"#7201a8\"],[0.3333333333333333,\"#9c179e\"],[0.4444444444444444,\"#bd3786\"],[0.5555555555555556,\"#d8576b\"],[0.6666666666666666,\"#ed7953\"],[0.7777777777777778,\"#fb9f3a\"],[0.8888888888888888,\"#fdca26\"],[1.0,\"#f0f921\"]],\"sequentialminus\":[[0.0,\"#0d0887\"],[0.1111111111111111,\"#46039f\"],[0.2222222222222222,\"#7201a8\"],[0.3333333333333333,\"#9c179e\"],[0.4444444444444444,\"#bd3786\"],[0.5555555555555556,\"#d8576b\"],[0.6666666666666666,\"#ed7953\"],[0.7777777777777778,\"#fb9f3a\"],[0.8888888888888888,\"#fdca26\"],[1.0,\"#f0f921\"]]},\"colorway\":[\"#636efa\",\"#EF553B\",\"#00cc96\",\"#ab63fa\",\"#FFA15A\",\"#19d3f3\",\"#FF6692\",\"#B6E880\",\"#FF97FF\",\"#FECB52\"],\"font\":{\"color\":\"#2a3f5f\"},\"geo\":{\"bgcolor\":\"white\",\"lakecolor\":\"white\",\"landcolor\":\"#E5ECF6\",\"showlakes\":true,\"showland\":true,\"subunitcolor\":\"white\"},\"hoverlabel\":{\"align\":\"left\"},\"hovermode\":\"closest\",\"mapbox\":{\"style\":\"light\"},\"paper_bgcolor\":\"white\",\"plot_bgcolor\":\"#E5ECF6\",\"polar\":{\"angularaxis\":{\"gridcolor\":\"white\",\"linecolor\":\"white\",\"ticks\":\"\"},\"bgcolor\":\"#E5ECF6\",\"radialaxis\":{\"gridcolor\":\"white\",\"linecolor\":\"white\",\"ticks\":\"\"}},\"scene\":{\"xaxis\":{\"backgroundcolor\":\"#E5ECF6\",\"gridcolor\":\"white\",\"gridwidth\":2,\"linecolor\":\"white\",\"showbackground\":true,\"ticks\":\"\",\"zerolinecolor\":\"white\"},\"yaxis\":{\"backgroundcolor\":\"#E5ECF6\",\"gridcolor\":\"white\",\"gridwidth\":2,\"linecolor\":\"white\",\"showbackground\":true,\"ticks\":\"\",\"zerolinecolor\":\"white\"},\"zaxis\":{\"backgroundcolor\":\"#E5ECF6\",\"gridcolor\":\"white\",\"gridwidth\":2,\"linecolor\":\"white\",\"showbackground\":true,\"ticks\":\"\",\"zerolinecolor\":\"white\"}},\"shapedefaults\":{\"line\":{\"color\":\"#2a3f5f\"}},\"ternary\":{\"aaxis\":{\"gridcolor\":\"white\",\"linecolor\":\"white\",\"ticks\":\"\"},\"baxis\":{\"gridcolor\":\"white\",\"linecolor\":\"white\",\"ticks\":\"\"},\"bgcolor\":\"#E5ECF6\",\"caxis\":{\"gridcolor\":\"white\",\"linecolor\":\"white\",\"ticks\":\"\"}},\"title\":{\"x\":0.05},\"xaxis\":{\"automargin\":true,\"gridcolor\":\"white\",\"linecolor\":\"white\",\"ticks\":\"\",\"title\":{\"standoff\":15},\"zerolinecolor\":\"white\",\"zerolinewidth\":2},\"yaxis\":{\"automargin\":true,\"gridcolor\":\"white\",\"linecolor\":\"white\",\"ticks\":\"\",\"title\":{\"standoff\":15},\"zerolinecolor\":\"white\",\"zerolinewidth\":2}}},\"xaxis\":{\"anchor\":\"y\",\"domain\":[0.0,1.0],\"title\":{\"text\":\"Sources\"}},\"yaxis\":{\"anchor\":\"x\",\"domain\":[0.0,1.0],\"title\":{\"text\":\"Number of Articles\"}},\"legend\":{\"tracegroupgap\":0},\"title\":{\"text\":\"Number of Data Collected from Sources (N = 1,371)\"},\"barmode\":\"relative\"},                        {\"responsive\": true}                    ).then(function(){\n",
              "                            \n",
              "var gd = document.getElementById('19fc6e97-c5ab-46b7-a577-5e12a44bb045');\n",
              "var x = new MutationObserver(function (mutations, observer) {{\n",
              "        var display = window.getComputedStyle(gd).display;\n",
              "        if (!display || display === 'none') {{\n",
              "            console.log([gd, 'removed!']);\n",
              "            Plotly.purge(gd);\n",
              "            observer.disconnect();\n",
              "        }}\n",
              "}});\n",
              "\n",
              "// Listen for the removal of the full notebook cells\n",
              "var notebookContainer = gd.closest('#notebook-container');\n",
              "if (notebookContainer) {{\n",
              "    x.observe(notebookContainer, {childList: true});\n",
              "}}\n",
              "\n",
              "// Listen for the clearing of the current output cell\n",
              "var outputEl = gd.closest('.output');\n",
              "if (outputEl) {{\n",
              "    x.observe(outputEl, {childList: true});\n",
              "}}\n",
              "\n",
              "                        })                };                            </script>        </div>\n",
              "</body>\n",
              "</html>"
            ]
          },
          "metadata": {}
        }
      ]
    },
    {
      "cell_type": "code",
      "source": [
        "import numpy as np\n",
        "df2 = df.groupby(['camefrom','keyword'])['Author'].count()\n",
        "df2 = pd.DataFrame(df2)\n",
        "df2.reset_index(inplace = True)\n",
        "df2['sum'] = df2.groupby(['camefrom']).Author.transform(np.sum)\n",
        "df2['percentage'] = (df2['Author'] / df2['sum']) * 100\n",
        "df2.rename(columns={\"camefrom\": \"Source\"}, inplace = True)"
      ],
      "metadata": {
        "id": "xO2FSWab9p1u"
      },
      "execution_count": 12,
      "outputs": []
    },
    {
      "cell_type": "markdown",
      "source": [
        "# News Articles Collected by Keywords\n",
        "All sources, excpet NY Times collect similiar numbers of articles\n",
        "NY Times has more news articles about political issues (Russia war and Biden), but they do not have a lot of articles about other issues. Especically, NY Times does not cover sports / celebrity topics."
      ],
      "metadata": {
        "id": "r4dcLBl8MuJd"
      }
    },
    {
      "cell_type": "code",
      "source": [
        "import plotly.express as px\n",
        "\n",
        "fig = px.bar(df2, \n",
        "             x=\"Source\", \n",
        "             y=\"percentage\", \n",
        "             color=\"keyword\", \n",
        "             title=\"% of Articles Collected, Based on Keywords\", \n",
        "             text = 'keyword')\n",
        "fig.show()"
      ],
      "metadata": {
        "colab": {
          "base_uri": "https://localhost:8080/",
          "height": 542
        },
        "id": "q5qtkSDj-jwL",
        "outputId": "48806e33-5d09-4613-8fc9-34ea205c04eb"
      },
      "execution_count": 16,
      "outputs": [
        {
          "output_type": "display_data",
          "data": {
            "text/html": [
              "<html>\n",
              "<head><meta charset=\"utf-8\" /></head>\n",
              "<body>\n",
              "    <div>            <script src=\"https://cdnjs.cloudflare.com/ajax/libs/mathjax/2.7.5/MathJax.js?config=TeX-AMS-MML_SVG\"></script><script type=\"text/javascript\">if (window.MathJax) {MathJax.Hub.Config({SVG: {font: \"STIX-Web\"}});}</script>                <script type=\"text/javascript\">window.PlotlyConfig = {MathJaxConfig: 'local'};</script>\n",
              "        <script src=\"https://cdn.plot.ly/plotly-2.8.3.min.js\"></script>                <div id=\"a10feddc-61e2-4ee4-8204-d564a46e2005\" class=\"plotly-graph-div\" style=\"height:525px; width:100%;\"></div>            <script type=\"text/javascript\">                                    window.PLOTLYENV=window.PLOTLYENV || {};                                    if (document.getElementById(\"a10feddc-61e2-4ee4-8204-d564a46e2005\")) {                    Plotly.newPlot(                        \"a10feddc-61e2-4ee4-8204-d564a46e2005\",                        [{\"alignmentgroup\":\"True\",\"hovertemplate\":\"keyword=%{text}<br>Source=%{x}<br>percentage=%{y}<extra></extra>\",\"legendgroup\":\"Biden\",\"marker\":{\"color\":\"#636efa\",\"pattern\":{\"shape\":\"\"}},\"name\":\"Biden\",\"offsetgroup\":\"Biden\",\"orientation\":\"v\",\"showlegend\":true,\"text\":[\"Biden\",\"Biden\",\"Biden\",\"Biden\",\"Biden\"],\"textposition\":\"auto\",\"x\":[\"BingNews\",\"GoogleNews\",\"NYTimes\",\"newsAPI\",\"newsCatcher\"],\"xaxis\":\"x\",\"y\":[9.70873786407767,10.843373493975903,42.7536231884058,13.783403656821378,11.607142857142858],\"yaxis\":\"y\",\"type\":\"bar\"},{\"alignmentgroup\":\"True\",\"hovertemplate\":\"keyword=%{text}<br>Source=%{x}<br>percentage=%{y}<extra></extra>\",\"legendgroup\":\"Bruce Willis\",\"marker\":{\"color\":\"#EF553B\",\"pattern\":{\"shape\":\"\"}},\"name\":\"Bruce Willis\",\"offsetgroup\":\"Bruce Willis\",\"orientation\":\"v\",\"showlegend\":true,\"text\":[\"Bruce Willis\",\"Bruce Willis\",\"Bruce Willis\",\"Bruce Willis\",\"Bruce Willis\"],\"textposition\":\"auto\",\"x\":[\"BingNews\",\"GoogleNews\",\"NYTimes\",\"newsAPI\",\"newsCatcher\"],\"xaxis\":\"x\",\"y\":[9.70873786407767,8.433734939759036,0.7246376811594203,10.68917018284107,12.202380952380953],\"yaxis\":\"y\",\"type\":\"bar\"},{\"alignmentgroup\":\"True\",\"hovertemplate\":\"keyword=%{text}<br>Source=%{x}<br>percentage=%{y}<extra></extra>\",\"legendgroup\":\"Damar Hamlin Jacket\",\"marker\":{\"color\":\"#00cc96\",\"pattern\":{\"shape\":\"\"}},\"name\":\"Damar Hamlin Jacket\",\"offsetgroup\":\"Damar Hamlin Jacket\",\"orientation\":\"v\",\"showlegend\":true,\"text\":[\"Damar Hamlin Jacket\",\"Damar Hamlin Jacket\",\"Damar Hamlin Jacket\"],\"textposition\":\"auto\",\"x\":[\"BingNews\",\"GoogleNews\",\"newsCatcher\"],\"xaxis\":\"x\",\"y\":[9.70873786407767,12.048192771084338,11.011904761904761],\"yaxis\":\"y\",\"type\":\"bar\"},{\"alignmentgroup\":\"True\",\"hovertemplate\":\"keyword=%{text}<br>Source=%{x}<br>percentage=%{y}<extra></extra>\",\"legendgroup\":\"Frontotemporal demantia\",\"marker\":{\"color\":\"#ab63fa\",\"pattern\":{\"shape\":\"\"}},\"name\":\"Frontotemporal demantia\",\"offsetgroup\":\"Frontotemporal demantia\",\"orientation\":\"v\",\"showlegend\":true,\"text\":[\"Frontotemporal demantia\",\"Frontotemporal demantia\"],\"textposition\":\"auto\",\"x\":[\"BingNews\",\"GoogleNews\"],\"xaxis\":\"x\",\"y\":[9.70873786407767,12.048192771084338],\"yaxis\":\"y\",\"type\":\"bar\"},{\"alignmentgroup\":\"True\",\"hovertemplate\":\"keyword=%{text}<br>Source=%{x}<br>percentage=%{y}<extra></extra>\",\"legendgroup\":\"Google\",\"marker\":{\"color\":\"#FFA15A\",\"pattern\":{\"shape\":\"\"}},\"name\":\"Google\",\"offsetgroup\":\"Google\",\"orientation\":\"v\",\"showlegend\":true,\"text\":[\"Google\",\"Google\",\"Google\",\"Google\",\"Google\"],\"textposition\":\"auto\",\"x\":[\"BingNews\",\"GoogleNews\",\"NYTimes\",\"newsAPI\",\"newsCatcher\"],\"xaxis\":\"x\",\"y\":[9.70873786407767,6.024096385542169,9.420289855072465,14.064697609001406,5.654761904761905],\"yaxis\":\"y\",\"type\":\"bar\"},{\"alignmentgroup\":\"True\",\"hovertemplate\":\"keyword=%{text}<br>Source=%{x}<br>percentage=%{y}<extra></extra>\",\"legendgroup\":\"Microsoft\",\"marker\":{\"color\":\"#19d3f3\",\"pattern\":{\"shape\":\"\"}},\"name\":\"Microsoft\",\"offsetgroup\":\"Microsoft\",\"orientation\":\"v\",\"showlegend\":true,\"text\":[\"Microsoft\",\"Microsoft\",\"Microsoft\",\"Microsoft\",\"Microsoft\"],\"textposition\":\"auto\",\"x\":[\"BingNews\",\"GoogleNews\",\"NYTimes\",\"newsAPI\",\"newsCatcher\"],\"xaxis\":\"x\",\"y\":[8.737864077669903,7.228915662650602,7.246376811594203,13.783403656821378,3.273809523809524],\"yaxis\":\"y\",\"type\":\"bar\"},{\"alignmentgroup\":\"True\",\"hovertemplate\":\"keyword=%{text}<br>Source=%{x}<br>percentage=%{y}<extra></extra>\",\"legendgroup\":\"Russia\",\"marker\":{\"color\":\"#FF6692\",\"pattern\":{\"shape\":\"\"}},\"name\":\"Russia\",\"offsetgroup\":\"Russia\",\"orientation\":\"v\",\"showlegend\":true,\"text\":[\"Russia\",\"Russia\",\"Russia\",\"Russia\",\"Russia\"],\"textposition\":\"auto\",\"x\":[\"BingNews\",\"GoogleNews\",\"NYTimes\",\"newsAPI\",\"newsCatcher\"],\"xaxis\":\"x\",\"y\":[3.8834951456310676,2.4096385542168677,23.91304347826087,13.080168776371309,11.607142857142858],\"yaxis\":\"y\",\"type\":\"bar\"},{\"alignmentgroup\":\"True\",\"hovertemplate\":\"keyword=%{text}<br>Source=%{x}<br>percentage=%{y}<extra></extra>\",\"legendgroup\":\"Ryan Seacrest\",\"marker\":{\"color\":\"#B6E880\",\"pattern\":{\"shape\":\"\"}},\"name\":\"Ryan Seacrest\",\"offsetgroup\":\"Ryan Seacrest\",\"orientation\":\"v\",\"showlegend\":true,\"text\":[\"Ryan Seacrest\",\"Ryan Seacrest\",\"Ryan Seacrest\",\"Ryan Seacrest\",\"Ryan Seacrest\"],\"textposition\":\"auto\",\"x\":[\"BingNews\",\"GoogleNews\",\"NYTimes\",\"newsAPI\",\"newsCatcher\"],\"xaxis\":\"x\",\"y\":[9.70873786407767,10.843373493975903,0.7246376811594203,1.969057665260197,11.30952380952381],\"yaxis\":\"y\",\"type\":\"bar\"},{\"alignmentgroup\":\"True\",\"hovertemplate\":\"keyword=%{text}<br>Source=%{x}<br>percentage=%{y}<extra></extra>\",\"legendgroup\":\"Tiger Woods\",\"marker\":{\"color\":\"#FF97FF\",\"pattern\":{\"shape\":\"\"}},\"name\":\"Tiger Woods\",\"offsetgroup\":\"Tiger Woods\",\"orientation\":\"v\",\"showlegend\":true,\"text\":[\"Tiger Woods\",\"Tiger Woods\",\"Tiger Woods\",\"Tiger Woods\",\"Tiger Woods\"],\"textposition\":\"auto\",\"x\":[\"BingNews\",\"GoogleNews\",\"NYTimes\",\"newsAPI\",\"newsCatcher\"],\"xaxis\":\"x\",\"y\":[9.70873786407767,9.63855421686747,1.4492753623188406,5.20393811533052,10.119047619047619],\"yaxis\":\"y\",\"type\":\"bar\"},{\"alignmentgroup\":\"True\",\"hovertemplate\":\"keyword=%{text}<br>Source=%{x}<br>percentage=%{y}<extra></extra>\",\"legendgroup\":\"Turkey\",\"marker\":{\"color\":\"#FECB52\",\"pattern\":{\"shape\":\"\"}},\"name\":\"Turkey\",\"offsetgroup\":\"Turkey\",\"orientation\":\"v\",\"showlegend\":true,\"text\":[\"Turkey\",\"Turkey\",\"Turkey\",\"Turkey\",\"Turkey\"],\"textposition\":\"auto\",\"x\":[\"BingNews\",\"GoogleNews\",\"NYTimes\",\"newsAPI\",\"newsCatcher\"],\"xaxis\":\"x\",\"y\":[9.70873786407767,9.63855421686747,10.144927536231885,13.924050632911392,10.416666666666668],\"yaxis\":\"y\",\"type\":\"bar\"},{\"alignmentgroup\":\"True\",\"hovertemplate\":\"keyword=%{text}<br>Source=%{x}<br>percentage=%{y}<extra></extra>\",\"legendgroup\":\"layoffs\",\"marker\":{\"color\":\"#636efa\",\"pattern\":{\"shape\":\"\"}},\"name\":\"layoffs\",\"offsetgroup\":\"layoffs\",\"orientation\":\"v\",\"showlegend\":true,\"text\":[\"layoffs\",\"layoffs\",\"layoffs\",\"layoffs\",\"layoffs\"],\"textposition\":\"auto\",\"x\":[\"BingNews\",\"GoogleNews\",\"NYTimes\",\"newsAPI\",\"newsCatcher\"],\"xaxis\":\"x\",\"y\":[9.70873786407767,10.843373493975903,3.6231884057971016,13.502109704641349,12.797619047619047],\"yaxis\":\"y\",\"type\":\"bar\"}],                        {\"template\":{\"data\":{\"bar\":[{\"error_x\":{\"color\":\"#2a3f5f\"},\"error_y\":{\"color\":\"#2a3f5f\"},\"marker\":{\"line\":{\"color\":\"#E5ECF6\",\"width\":0.5},\"pattern\":{\"fillmode\":\"overlay\",\"size\":10,\"solidity\":0.2}},\"type\":\"bar\"}],\"barpolar\":[{\"marker\":{\"line\":{\"color\":\"#E5ECF6\",\"width\":0.5},\"pattern\":{\"fillmode\":\"overlay\",\"size\":10,\"solidity\":0.2}},\"type\":\"barpolar\"}],\"carpet\":[{\"aaxis\":{\"endlinecolor\":\"#2a3f5f\",\"gridcolor\":\"white\",\"linecolor\":\"white\",\"minorgridcolor\":\"white\",\"startlinecolor\":\"#2a3f5f\"},\"baxis\":{\"endlinecolor\":\"#2a3f5f\",\"gridcolor\":\"white\",\"linecolor\":\"white\",\"minorgridcolor\":\"white\",\"startlinecolor\":\"#2a3f5f\"},\"type\":\"carpet\"}],\"choropleth\":[{\"colorbar\":{\"outlinewidth\":0,\"ticks\":\"\"},\"type\":\"choropleth\"}],\"contour\":[{\"colorbar\":{\"outlinewidth\":0,\"ticks\":\"\"},\"colorscale\":[[0.0,\"#0d0887\"],[0.1111111111111111,\"#46039f\"],[0.2222222222222222,\"#7201a8\"],[0.3333333333333333,\"#9c179e\"],[0.4444444444444444,\"#bd3786\"],[0.5555555555555556,\"#d8576b\"],[0.6666666666666666,\"#ed7953\"],[0.7777777777777778,\"#fb9f3a\"],[0.8888888888888888,\"#fdca26\"],[1.0,\"#f0f921\"]],\"type\":\"contour\"}],\"contourcarpet\":[{\"colorbar\":{\"outlinewidth\":0,\"ticks\":\"\"},\"type\":\"contourcarpet\"}],\"heatmap\":[{\"colorbar\":{\"outlinewidth\":0,\"ticks\":\"\"},\"colorscale\":[[0.0,\"#0d0887\"],[0.1111111111111111,\"#46039f\"],[0.2222222222222222,\"#7201a8\"],[0.3333333333333333,\"#9c179e\"],[0.4444444444444444,\"#bd3786\"],[0.5555555555555556,\"#d8576b\"],[0.6666666666666666,\"#ed7953\"],[0.7777777777777778,\"#fb9f3a\"],[0.8888888888888888,\"#fdca26\"],[1.0,\"#f0f921\"]],\"type\":\"heatmap\"}],\"heatmapgl\":[{\"colorbar\":{\"outlinewidth\":0,\"ticks\":\"\"},\"colorscale\":[[0.0,\"#0d0887\"],[0.1111111111111111,\"#46039f\"],[0.2222222222222222,\"#7201a8\"],[0.3333333333333333,\"#9c179e\"],[0.4444444444444444,\"#bd3786\"],[0.5555555555555556,\"#d8576b\"],[0.6666666666666666,\"#ed7953\"],[0.7777777777777778,\"#fb9f3a\"],[0.8888888888888888,\"#fdca26\"],[1.0,\"#f0f921\"]],\"type\":\"heatmapgl\"}],\"histogram\":[{\"marker\":{\"pattern\":{\"fillmode\":\"overlay\",\"size\":10,\"solidity\":0.2}},\"type\":\"histogram\"}],\"histogram2d\":[{\"colorbar\":{\"outlinewidth\":0,\"ticks\":\"\"},\"colorscale\":[[0.0,\"#0d0887\"],[0.1111111111111111,\"#46039f\"],[0.2222222222222222,\"#7201a8\"],[0.3333333333333333,\"#9c179e\"],[0.4444444444444444,\"#bd3786\"],[0.5555555555555556,\"#d8576b\"],[0.6666666666666666,\"#ed7953\"],[0.7777777777777778,\"#fb9f3a\"],[0.8888888888888888,\"#fdca26\"],[1.0,\"#f0f921\"]],\"type\":\"histogram2d\"}],\"histogram2dcontour\":[{\"colorbar\":{\"outlinewidth\":0,\"ticks\":\"\"},\"colorscale\":[[0.0,\"#0d0887\"],[0.1111111111111111,\"#46039f\"],[0.2222222222222222,\"#7201a8\"],[0.3333333333333333,\"#9c179e\"],[0.4444444444444444,\"#bd3786\"],[0.5555555555555556,\"#d8576b\"],[0.6666666666666666,\"#ed7953\"],[0.7777777777777778,\"#fb9f3a\"],[0.8888888888888888,\"#fdca26\"],[1.0,\"#f0f921\"]],\"type\":\"histogram2dcontour\"}],\"mesh3d\":[{\"colorbar\":{\"outlinewidth\":0,\"ticks\":\"\"},\"type\":\"mesh3d\"}],\"parcoords\":[{\"line\":{\"colorbar\":{\"outlinewidth\":0,\"ticks\":\"\"}},\"type\":\"parcoords\"}],\"pie\":[{\"automargin\":true,\"type\":\"pie\"}],\"scatter\":[{\"marker\":{\"colorbar\":{\"outlinewidth\":0,\"ticks\":\"\"}},\"type\":\"scatter\"}],\"scatter3d\":[{\"line\":{\"colorbar\":{\"outlinewidth\":0,\"ticks\":\"\"}},\"marker\":{\"colorbar\":{\"outlinewidth\":0,\"ticks\":\"\"}},\"type\":\"scatter3d\"}],\"scattercarpet\":[{\"marker\":{\"colorbar\":{\"outlinewidth\":0,\"ticks\":\"\"}},\"type\":\"scattercarpet\"}],\"scattergeo\":[{\"marker\":{\"colorbar\":{\"outlinewidth\":0,\"ticks\":\"\"}},\"type\":\"scattergeo\"}],\"scattergl\":[{\"marker\":{\"colorbar\":{\"outlinewidth\":0,\"ticks\":\"\"}},\"type\":\"scattergl\"}],\"scattermapbox\":[{\"marker\":{\"colorbar\":{\"outlinewidth\":0,\"ticks\":\"\"}},\"type\":\"scattermapbox\"}],\"scatterpolar\":[{\"marker\":{\"colorbar\":{\"outlinewidth\":0,\"ticks\":\"\"}},\"type\":\"scatterpolar\"}],\"scatterpolargl\":[{\"marker\":{\"colorbar\":{\"outlinewidth\":0,\"ticks\":\"\"}},\"type\":\"scatterpolargl\"}],\"scatterternary\":[{\"marker\":{\"colorbar\":{\"outlinewidth\":0,\"ticks\":\"\"}},\"type\":\"scatterternary\"}],\"surface\":[{\"colorbar\":{\"outlinewidth\":0,\"ticks\":\"\"},\"colorscale\":[[0.0,\"#0d0887\"],[0.1111111111111111,\"#46039f\"],[0.2222222222222222,\"#7201a8\"],[0.3333333333333333,\"#9c179e\"],[0.4444444444444444,\"#bd3786\"],[0.5555555555555556,\"#d8576b\"],[0.6666666666666666,\"#ed7953\"],[0.7777777777777778,\"#fb9f3a\"],[0.8888888888888888,\"#fdca26\"],[1.0,\"#f0f921\"]],\"type\":\"surface\"}],\"table\":[{\"cells\":{\"fill\":{\"color\":\"#EBF0F8\"},\"line\":{\"color\":\"white\"}},\"header\":{\"fill\":{\"color\":\"#C8D4E3\"},\"line\":{\"color\":\"white\"}},\"type\":\"table\"}]},\"layout\":{\"annotationdefaults\":{\"arrowcolor\":\"#2a3f5f\",\"arrowhead\":0,\"arrowwidth\":1},\"autotypenumbers\":\"strict\",\"coloraxis\":{\"colorbar\":{\"outlinewidth\":0,\"ticks\":\"\"}},\"colorscale\":{\"diverging\":[[0,\"#8e0152\"],[0.1,\"#c51b7d\"],[0.2,\"#de77ae\"],[0.3,\"#f1b6da\"],[0.4,\"#fde0ef\"],[0.5,\"#f7f7f7\"],[0.6,\"#e6f5d0\"],[0.7,\"#b8e186\"],[0.8,\"#7fbc41\"],[0.9,\"#4d9221\"],[1,\"#276419\"]],\"sequential\":[[0.0,\"#0d0887\"],[0.1111111111111111,\"#46039f\"],[0.2222222222222222,\"#7201a8\"],[0.3333333333333333,\"#9c179e\"],[0.4444444444444444,\"#bd3786\"],[0.5555555555555556,\"#d8576b\"],[0.6666666666666666,\"#ed7953\"],[0.7777777777777778,\"#fb9f3a\"],[0.8888888888888888,\"#fdca26\"],[1.0,\"#f0f921\"]],\"sequentialminus\":[[0.0,\"#0d0887\"],[0.1111111111111111,\"#46039f\"],[0.2222222222222222,\"#7201a8\"],[0.3333333333333333,\"#9c179e\"],[0.4444444444444444,\"#bd3786\"],[0.5555555555555556,\"#d8576b\"],[0.6666666666666666,\"#ed7953\"],[0.7777777777777778,\"#fb9f3a\"],[0.8888888888888888,\"#fdca26\"],[1.0,\"#f0f921\"]]},\"colorway\":[\"#636efa\",\"#EF553B\",\"#00cc96\",\"#ab63fa\",\"#FFA15A\",\"#19d3f3\",\"#FF6692\",\"#B6E880\",\"#FF97FF\",\"#FECB52\"],\"font\":{\"color\":\"#2a3f5f\"},\"geo\":{\"bgcolor\":\"white\",\"lakecolor\":\"white\",\"landcolor\":\"#E5ECF6\",\"showlakes\":true,\"showland\":true,\"subunitcolor\":\"white\"},\"hoverlabel\":{\"align\":\"left\"},\"hovermode\":\"closest\",\"mapbox\":{\"style\":\"light\"},\"paper_bgcolor\":\"white\",\"plot_bgcolor\":\"#E5ECF6\",\"polar\":{\"angularaxis\":{\"gridcolor\":\"white\",\"linecolor\":\"white\",\"ticks\":\"\"},\"bgcolor\":\"#E5ECF6\",\"radialaxis\":{\"gridcolor\":\"white\",\"linecolor\":\"white\",\"ticks\":\"\"}},\"scene\":{\"xaxis\":{\"backgroundcolor\":\"#E5ECF6\",\"gridcolor\":\"white\",\"gridwidth\":2,\"linecolor\":\"white\",\"showbackground\":true,\"ticks\":\"\",\"zerolinecolor\":\"white\"},\"yaxis\":{\"backgroundcolor\":\"#E5ECF6\",\"gridcolor\":\"white\",\"gridwidth\":2,\"linecolor\":\"white\",\"showbackground\":true,\"ticks\":\"\",\"zerolinecolor\":\"white\"},\"zaxis\":{\"backgroundcolor\":\"#E5ECF6\",\"gridcolor\":\"white\",\"gridwidth\":2,\"linecolor\":\"white\",\"showbackground\":true,\"ticks\":\"\",\"zerolinecolor\":\"white\"}},\"shapedefaults\":{\"line\":{\"color\":\"#2a3f5f\"}},\"ternary\":{\"aaxis\":{\"gridcolor\":\"white\",\"linecolor\":\"white\",\"ticks\":\"\"},\"baxis\":{\"gridcolor\":\"white\",\"linecolor\":\"white\",\"ticks\":\"\"},\"bgcolor\":\"#E5ECF6\",\"caxis\":{\"gridcolor\":\"white\",\"linecolor\":\"white\",\"ticks\":\"\"}},\"title\":{\"x\":0.05},\"xaxis\":{\"automargin\":true,\"gridcolor\":\"white\",\"linecolor\":\"white\",\"ticks\":\"\",\"title\":{\"standoff\":15},\"zerolinecolor\":\"white\",\"zerolinewidth\":2},\"yaxis\":{\"automargin\":true,\"gridcolor\":\"white\",\"linecolor\":\"white\",\"ticks\":\"\",\"title\":{\"standoff\":15},\"zerolinecolor\":\"white\",\"zerolinewidth\":2}}},\"xaxis\":{\"anchor\":\"y\",\"domain\":[0.0,1.0],\"title\":{\"text\":\"Source\"}},\"yaxis\":{\"anchor\":\"x\",\"domain\":[0.0,1.0],\"title\":{\"text\":\"percentage\"}},\"legend\":{\"title\":{\"text\":\"keyword\"},\"tracegroupgap\":0},\"title\":{\"text\":\"% of Articles Collected, Based on Keywords\"},\"barmode\":\"relative\"},                        {\"responsive\": true}                    ).then(function(){\n",
              "                            \n",
              "var gd = document.getElementById('a10feddc-61e2-4ee4-8204-d564a46e2005');\n",
              "var x = new MutationObserver(function (mutations, observer) {{\n",
              "        var display = window.getComputedStyle(gd).display;\n",
              "        if (!display || display === 'none') {{\n",
              "            console.log([gd, 'removed!']);\n",
              "            Plotly.purge(gd);\n",
              "            observer.disconnect();\n",
              "        }}\n",
              "}});\n",
              "\n",
              "// Listen for the removal of the full notebook cells\n",
              "var notebookContainer = gd.closest('#notebook-container');\n",
              "if (notebookContainer) {{\n",
              "    x.observe(notebookContainer, {childList: true});\n",
              "}}\n",
              "\n",
              "// Listen for the clearing of the current output cell\n",
              "var outputEl = gd.closest('.output');\n",
              "if (outputEl) {{\n",
              "    x.observe(outputEl, {childList: true});\n",
              "}}\n",
              "\n",
              "                        })                };                            </script>        </div>\n",
              "</body>\n",
              "</html>"
            ]
          },
          "metadata": {}
        }
      ]
    },
    {
      "cell_type": "markdown",
      "source": [
        "# Sources from each APIs\n",
        "- Bing News API collects articles from diverse / popular sources.\n",
        "- Google News API collects articles from two / popular sources (CNN / Fox News)\n",
        "- NY Times API collects articles from NY Times.\n",
        "- NEWS Api collects articels from extremely diverse sources.\n",
        "- NEWS catcher collects articles from diverse, but non-popular (international) sources."
      ],
      "metadata": {
        "id": "mKy9azsGNIpV"
      }
    },
    {
      "cell_type": "code",
      "source": [
        "df3 = (df.groupby(['camefrom', 'Author'])['Title'].count())\n",
        "df3 = pd.DataFrame(df3).reset_index()\n",
        "df3 = df3[(df3['Title'] > 3)]\n",
        "df3['sum'] = df3.groupby(['camefrom']).Title.transform(np.sum)\n",
        "df3['percentage'] = (df3['Title'] / df3['sum']) * 100\n",
        "\n",
        "fig = px.bar(df3, x=\"camefrom\", \n",
        "             y=\"percentage\", \n",
        "             color=\"Author\", \n",
        "             title=\"Articles' Sources, from APIs\", \n",
        "             text = 'Author')\n",
        "fig.show()"
      ],
      "metadata": {
        "colab": {
          "base_uri": "https://localhost:8080/",
          "height": 542
        },
        "id": "uuUmvZ--BFbH",
        "outputId": "af700656-7297-453e-818c-cdad86d963ef"
      },
      "execution_count": 17,
      "outputs": [
        {
          "output_type": "display_data",
          "data": {
            "text/html": [
              "<html>\n",
              "<head><meta charset=\"utf-8\" /></head>\n",
              "<body>\n",
              "    <div>            <script src=\"https://cdnjs.cloudflare.com/ajax/libs/mathjax/2.7.5/MathJax.js?config=TeX-AMS-MML_SVG\"></script><script type=\"text/javascript\">if (window.MathJax) {MathJax.Hub.Config({SVG: {font: \"STIX-Web\"}});}</script>                <script type=\"text/javascript\">window.PlotlyConfig = {MathJaxConfig: 'local'};</script>\n",
              "        <script src=\"https://cdn.plot.ly/plotly-2.8.3.min.js\"></script>                <div id=\"e60b0823-c39c-44cc-878b-e3e62270a8e7\" class=\"plotly-graph-div\" style=\"height:525px; width:100%;\"></div>            <script type=\"text/javascript\">                                    window.PLOTLYENV=window.PLOTLYENV || {};                                    if (document.getElementById(\"e60b0823-c39c-44cc-878b-e3e62270a8e7\")) {                    Plotly.newPlot(                        \"e60b0823-c39c-44cc-878b-e3e62270a8e7\",                        [{\"alignmentgroup\":\"True\",\"hovertemplate\":\"Author=%{text}<br>camefrom=%{x}<br>percentage=%{y}<extra></extra>\",\"legendgroup\":\" ABC News\",\"marker\":{\"color\":\"#636efa\",\"pattern\":{\"shape\":\"\"}},\"name\":\" ABC News\",\"offsetgroup\":\" ABC News\",\"orientation\":\"v\",\"showlegend\":true,\"text\":[\" ABC News\"],\"textposition\":\"auto\",\"x\":[\"BingNews\"],\"xaxis\":\"x\",\"y\":[9.090909090909092],\"yaxis\":\"y\",\"type\":\"bar\"},{\"alignmentgroup\":\"True\",\"hovertemplate\":\"Author=%{text}<br>camefrom=%{x}<br>percentage=%{y}<extra></extra>\",\"legendgroup\":\" Business Insider\",\"marker\":{\"color\":\"#EF553B\",\"pattern\":{\"shape\":\"\"}},\"name\":\" Business Insider\",\"offsetgroup\":\" Business Insider\",\"orientation\":\"v\",\"showlegend\":true,\"text\":[\" Business Insider\"],\"textposition\":\"auto\",\"x\":[\"BingNews\"],\"xaxis\":\"x\",\"y\":[13.636363636363635],\"yaxis\":\"y\",\"type\":\"bar\"},{\"alignmentgroup\":\"True\",\"hovertemplate\":\"Author=%{text}<br>camefrom=%{x}<br>percentage=%{y}<extra></extra>\",\"legendgroup\":\" Forbes\",\"marker\":{\"color\":\"#00cc96\",\"pattern\":{\"shape\":\"\"}},\"name\":\" Forbes\",\"offsetgroup\":\" Forbes\",\"orientation\":\"v\",\"showlegend\":true,\"text\":[\" Forbes\"],\"textposition\":\"auto\",\"x\":[\"BingNews\"],\"xaxis\":\"x\",\"y\":[9.090909090909092],\"yaxis\":\"y\",\"type\":\"bar\"},{\"alignmentgroup\":\"True\",\"hovertemplate\":\"Author=%{text}<br>camefrom=%{x}<br>percentage=%{y}<extra></extra>\",\"legendgroup\":\" Fox News\",\"marker\":{\"color\":\"#ab63fa\",\"pattern\":{\"shape\":\"\"}},\"name\":\" Fox News\",\"offsetgroup\":\" Fox News\",\"orientation\":\"v\",\"showlegend\":true,\"text\":[\" Fox News\"],\"textposition\":\"auto\",\"x\":[\"BingNews\"],\"xaxis\":\"x\",\"y\":[11.363636363636363],\"yaxis\":\"y\",\"type\":\"bar\"},{\"alignmentgroup\":\"True\",\"hovertemplate\":\"Author=%{text}<br>camefrom=%{x}<br>percentage=%{y}<extra></extra>\",\"legendgroup\":\" MSN\",\"marker\":{\"color\":\"#FFA15A\",\"pattern\":{\"shape\":\"\"}},\"name\":\" MSN\",\"offsetgroup\":\" MSN\",\"orientation\":\"v\",\"showlegend\":true,\"text\":[\" MSN\"],\"textposition\":\"auto\",\"x\":[\"BingNews\"],\"xaxis\":\"x\",\"y\":[15.909090909090908],\"yaxis\":\"y\",\"type\":\"bar\"},{\"alignmentgroup\":\"True\",\"hovertemplate\":\"Author=%{text}<br>camefrom=%{x}<br>percentage=%{y}<extra></extra>\",\"legendgroup\":\" Reuters\",\"marker\":{\"color\":\"#19d3f3\",\"pattern\":{\"shape\":\"\"}},\"name\":\" Reuters\",\"offsetgroup\":\" Reuters\",\"orientation\":\"v\",\"showlegend\":true,\"text\":[\" Reuters\"],\"textposition\":\"auto\",\"x\":[\"BingNews\"],\"xaxis\":\"x\",\"y\":[9.090909090909092],\"yaxis\":\"y\",\"type\":\"bar\"},{\"alignmentgroup\":\"True\",\"hovertemplate\":\"Author=%{text}<br>camefrom=%{x}<br>percentage=%{y}<extra></extra>\",\"legendgroup\":\" USA Today\",\"marker\":{\"color\":\"#FF6692\",\"pattern\":{\"shape\":\"\"}},\"name\":\" USA Today\",\"offsetgroup\":\" USA Today\",\"orientation\":\"v\",\"showlegend\":true,\"text\":[\" USA Today\"],\"textposition\":\"auto\",\"x\":[\"BingNews\"],\"xaxis\":\"x\",\"y\":[13.636363636363635],\"yaxis\":\"y\",\"type\":\"bar\"},{\"alignmentgroup\":\"True\",\"hovertemplate\":\"Author=%{text}<br>camefrom=%{x}<br>percentage=%{y}<extra></extra>\",\"legendgroup\":\" YAHOO!News\",\"marker\":{\"color\":\"#B6E880\",\"pattern\":{\"shape\":\"\"}},\"name\":\" YAHOO!News\",\"offsetgroup\":\" YAHOO!News\",\"orientation\":\"v\",\"showlegend\":true,\"text\":[\" YAHOO!News\"],\"textposition\":\"auto\",\"x\":[\"BingNews\"],\"xaxis\":\"x\",\"y\":[9.090909090909092],\"yaxis\":\"y\",\"type\":\"bar\"},{\"alignmentgroup\":\"True\",\"hovertemplate\":\"Author=%{text}<br>camefrom=%{x}<br>percentage=%{y}<extra></extra>\",\"legendgroup\":\" Yahoo News\",\"marker\":{\"color\":\"#FF97FF\",\"pattern\":{\"shape\":\"\"}},\"name\":\" Yahoo News\",\"offsetgroup\":\" Yahoo News\",\"orientation\":\"v\",\"showlegend\":true,\"text\":[\" Yahoo News\"],\"textposition\":\"auto\",\"x\":[\"BingNews\"],\"xaxis\":\"x\",\"y\":[9.090909090909092],\"yaxis\":\"y\",\"type\":\"bar\"},{\"alignmentgroup\":\"True\",\"hovertemplate\":\"Author=%{text}<br>camefrom=%{x}<br>percentage=%{y}<extra></extra>\",\"legendgroup\":\"CNN\",\"marker\":{\"color\":\"#FECB52\",\"pattern\":{\"shape\":\"\"}},\"name\":\"CNN\",\"offsetgroup\":\"CNN\",\"orientation\":\"v\",\"showlegend\":true,\"text\":[\"CNN\"],\"textposition\":\"auto\",\"x\":[\"GoogleNews\"],\"xaxis\":\"x\",\"y\":[50.0],\"yaxis\":\"y\",\"type\":\"bar\"},{\"alignmentgroup\":\"True\",\"hovertemplate\":\"Author=%{text}<br>camefrom=%{x}<br>percentage=%{y}<extra></extra>\",\"legendgroup\":\"Fox News\",\"marker\":{\"color\":\"#636efa\",\"pattern\":{\"shape\":\"\"}},\"name\":\"Fox News\",\"offsetgroup\":\"Fox News\",\"orientation\":\"v\",\"showlegend\":true,\"text\":[\"Fox News\"],\"textposition\":\"auto\",\"x\":[\"GoogleNews\"],\"xaxis\":\"x\",\"y\":[50.0],\"yaxis\":\"y\",\"type\":\"bar\"},{\"alignmentgroup\":\"True\",\"hovertemplate\":\"Author=%{text}<br>camefrom=%{x}<br>percentage=%{y}<extra></extra>\",\"legendgroup\":\"The New York Times\",\"marker\":{\"color\":\"#EF553B\",\"pattern\":{\"shape\":\"\"}},\"name\":\"The New York Times\",\"offsetgroup\":\"The New York Times\",\"orientation\":\"v\",\"showlegend\":true,\"text\":[\"The New York Times\"],\"textposition\":\"auto\",\"x\":[\"NYTimes\"],\"xaxis\":\"x\",\"y\":[100.0],\"yaxis\":\"y\",\"type\":\"bar\"},{\"alignmentgroup\":\"True\",\"hovertemplate\":\"Author=%{text}<br>camefrom=%{x}<br>percentage=%{y}<extra></extra>\",\"legendgroup\":\"9to5Mac\",\"marker\":{\"color\":\"#00cc96\",\"pattern\":{\"shape\":\"\"}},\"name\":\"9to5Mac\",\"offsetgroup\":\"9to5Mac\",\"orientation\":\"v\",\"showlegend\":true,\"text\":[\"9to5Mac\"],\"textposition\":\"auto\",\"x\":[\"newsAPI\"],\"xaxis\":\"x\",\"y\":[7.439824945295405],\"yaxis\":\"y\",\"type\":\"bar\"},{\"alignmentgroup\":\"True\",\"hovertemplate\":\"Author=%{text}<br>camefrom=%{x}<br>percentage=%{y}<extra></extra>\",\"legendgroup\":\"ABC News\",\"marker\":{\"color\":\"#ab63fa\",\"pattern\":{\"shape\":\"\"}},\"name\":\"ABC News\",\"offsetgroup\":\"ABC News\",\"orientation\":\"v\",\"showlegend\":true,\"text\":[\"ABC News\"],\"textposition\":\"auto\",\"x\":[\"newsAPI\"],\"xaxis\":\"x\",\"y\":[0.87527352297593],\"yaxis\":\"y\",\"type\":\"bar\"},{\"alignmentgroup\":\"True\",\"hovertemplate\":\"Author=%{text}<br>camefrom=%{x}<br>percentage=%{y}<extra></extra>\",\"legendgroup\":\"Al Jazeera English\",\"marker\":{\"color\":\"#FFA15A\",\"pattern\":{\"shape\":\"\"}},\"name\":\"Al Jazeera English\",\"offsetgroup\":\"Al Jazeera English\",\"orientation\":\"v\",\"showlegend\":true,\"text\":[\"Al Jazeera English\"],\"textposition\":\"auto\",\"x\":[\"newsAPI\"],\"xaxis\":\"x\",\"y\":[2.4070021881838075],\"yaxis\":\"y\",\"type\":\"bar\"},{\"alignmentgroup\":\"True\",\"hovertemplate\":\"Author=%{text}<br>camefrom=%{x}<br>percentage=%{y}<extra></extra>\",\"legendgroup\":\"Axios\",\"marker\":{\"color\":\"#19d3f3\",\"pattern\":{\"shape\":\"\"}},\"name\":\"Axios\",\"offsetgroup\":\"Axios\",\"orientation\":\"v\",\"showlegend\":true,\"text\":[\"Axios\"],\"textposition\":\"auto\",\"x\":[\"newsAPI\"],\"xaxis\":\"x\",\"y\":[1.75054704595186],\"yaxis\":\"y\",\"type\":\"bar\"},{\"alignmentgroup\":\"True\",\"hovertemplate\":\"Author=%{text}<br>camefrom=%{x}<br>percentage=%{y}<extra></extra>\",\"legendgroup\":\"BBC News\",\"marker\":{\"color\":\"#FF6692\",\"pattern\":{\"shape\":\"\"}},\"name\":\"BBC News\",\"offsetgroup\":\"BBC News\",\"orientation\":\"v\",\"showlegend\":true,\"text\":[\"BBC News\"],\"textposition\":\"auto\",\"x\":[\"newsAPI\"],\"xaxis\":\"x\",\"y\":[1.312910284463895],\"yaxis\":\"y\",\"type\":\"bar\"},{\"alignmentgroup\":\"True\",\"hovertemplate\":\"Author=%{text}<br>camefrom=%{x}<br>percentage=%{y}<extra></extra>\",\"legendgroup\":\"BetaNews\",\"marker\":{\"color\":\"#B6E880\",\"pattern\":{\"shape\":\"\"}},\"name\":\"BetaNews\",\"offsetgroup\":\"BetaNews\",\"orientation\":\"v\",\"showlegend\":true,\"text\":[\"BetaNews\"],\"textposition\":\"auto\",\"x\":[\"newsAPI\"],\"xaxis\":\"x\",\"y\":[0.87527352297593],\"yaxis\":\"y\",\"type\":\"bar\"},{\"alignmentgroup\":\"True\",\"hovertemplate\":\"Author=%{text}<br>camefrom=%{x}<br>percentage=%{y}<extra></extra>\",\"legendgroup\":\"Biztoc.com\",\"marker\":{\"color\":\"#FF97FF\",\"pattern\":{\"shape\":\"\"}},\"name\":\"Biztoc.com\",\"offsetgroup\":\"Biztoc.com\",\"orientation\":\"v\",\"showlegend\":true,\"text\":[\"Biztoc.com\"],\"textposition\":\"auto\",\"x\":[\"newsAPI\"],\"xaxis\":\"x\",\"y\":[8.971553610503284],\"yaxis\":\"y\",\"type\":\"bar\"},{\"alignmentgroup\":\"True\",\"hovertemplate\":\"Author=%{text}<br>camefrom=%{x}<br>percentage=%{y}<extra></extra>\",\"legendgroup\":\"Business Insider\",\"marker\":{\"color\":\"#FECB52\",\"pattern\":{\"shape\":\"\"}},\"name\":\"Business Insider\",\"offsetgroup\":\"Business Insider\",\"orientation\":\"v\",\"showlegend\":true,\"text\":[\"Business Insider\"],\"textposition\":\"auto\",\"x\":[\"newsAPI\"],\"xaxis\":\"x\",\"y\":[1.5317286652078774],\"yaxis\":\"y\",\"type\":\"bar\"},{\"alignmentgroup\":\"True\",\"hovertemplate\":\"Author=%{text}<br>camefrom=%{x}<br>percentage=%{y}<extra></extra>\",\"legendgroup\":\"CBS News\",\"marker\":{\"color\":\"#636efa\",\"pattern\":{\"shape\":\"\"}},\"name\":\"CBS News\",\"offsetgroup\":\"CBS News\",\"orientation\":\"v\",\"showlegend\":true,\"text\":[\"CBS News\"],\"textposition\":\"auto\",\"x\":[\"newsAPI\"],\"xaxis\":\"x\",\"y\":[1.75054704595186],\"yaxis\":\"y\",\"type\":\"bar\"},{\"alignmentgroup\":\"True\",\"hovertemplate\":\"Author=%{text}<br>camefrom=%{x}<br>percentage=%{y}<extra></extra>\",\"legendgroup\":\"CNA\",\"marker\":{\"color\":\"#EF553B\",\"pattern\":{\"shape\":\"\"}},\"name\":\"CNA\",\"offsetgroup\":\"CNA\",\"orientation\":\"v\",\"showlegend\":true,\"text\":[\"CNA\"],\"textposition\":\"auto\",\"x\":[\"newsAPI\"],\"xaxis\":\"x\",\"y\":[1.0940919037199124],\"yaxis\":\"y\",\"type\":\"bar\"},{\"alignmentgroup\":\"True\",\"hovertemplate\":\"Author=%{text}<br>camefrom=%{x}<br>percentage=%{y}<extra></extra>\",\"legendgroup\":\"DW (English)\",\"marker\":{\"color\":\"#00cc96\",\"pattern\":{\"shape\":\"\"}},\"name\":\"DW (English)\",\"offsetgroup\":\"DW (English)\",\"orientation\":\"v\",\"showlegend\":true,\"text\":[\"DW (English)\"],\"textposition\":\"auto\",\"x\":[\"newsAPI\"],\"xaxis\":\"x\",\"y\":[1.75054704595186],\"yaxis\":\"y\",\"type\":\"bar\"},{\"alignmentgroup\":\"True\",\"hovertemplate\":\"Author=%{text}<br>camefrom=%{x}<br>percentage=%{y}<extra></extra>\",\"legendgroup\":\"Daily Mail\",\"marker\":{\"color\":\"#ab63fa\",\"pattern\":{\"shape\":\"\"}},\"name\":\"Daily Mail\",\"offsetgroup\":\"Daily Mail\",\"orientation\":\"v\",\"showlegend\":true,\"text\":[\"Daily Mail\"],\"textposition\":\"auto\",\"x\":[\"newsAPI\"],\"xaxis\":\"x\",\"y\":[2.62582056892779],\"yaxis\":\"y\",\"type\":\"bar\"},{\"alignmentgroup\":\"True\",\"hovertemplate\":\"Author=%{text}<br>camefrom=%{x}<br>percentage=%{y}<extra></extra>\",\"legendgroup\":\"Deadline\",\"marker\":{\"color\":\"#FFA15A\",\"pattern\":{\"shape\":\"\"}},\"name\":\"Deadline\",\"offsetgroup\":\"Deadline\",\"orientation\":\"v\",\"showlegend\":true,\"text\":[\"Deadline\"],\"textposition\":\"auto\",\"x\":[\"newsAPI\"],\"xaxis\":\"x\",\"y\":[0.87527352297593],\"yaxis\":\"y\",\"type\":\"bar\"},{\"alignmentgroup\":\"True\",\"hovertemplate\":\"Author=%{text}<br>camefrom=%{x}<br>percentage=%{y}<extra></extra>\",\"legendgroup\":\"Euronews\",\"marker\":{\"color\":\"#19d3f3\",\"pattern\":{\"shape\":\"\"}},\"name\":\"Euronews\",\"offsetgroup\":\"Euronews\",\"orientation\":\"v\",\"showlegend\":true,\"text\":[\"Euronews\"],\"textposition\":\"auto\",\"x\":[\"newsAPI\"],\"xaxis\":\"x\",\"y\":[1.312910284463895],\"yaxis\":\"y\",\"type\":\"bar\"},{\"alignmentgroup\":\"True\",\"hovertemplate\":\"Author=%{text}<br>camefrom=%{x}<br>percentage=%{y}<extra></extra>\",\"legendgroup\":\"Forbes\",\"marker\":{\"color\":\"#FF6692\",\"pattern\":{\"shape\":\"\"}},\"name\":\"Forbes\",\"offsetgroup\":\"Forbes\",\"orientation\":\"v\",\"showlegend\":true,\"text\":[\"Forbes\"],\"textposition\":\"auto\",\"x\":[\"newsAPI\"],\"xaxis\":\"x\",\"y\":[8.315098468271334],\"yaxis\":\"y\",\"type\":\"bar\"},{\"alignmentgroup\":\"True\",\"hovertemplate\":\"Author=%{text}<br>camefrom=%{x}<br>percentage=%{y}<extra></extra>\",\"legendgroup\":\"Fortune\",\"marker\":{\"color\":\"#B6E880\",\"pattern\":{\"shape\":\"\"}},\"name\":\"Fortune\",\"offsetgroup\":\"Fortune\",\"orientation\":\"v\",\"showlegend\":true,\"text\":[\"Fortune\"],\"textposition\":\"auto\",\"x\":[\"newsAPI\"],\"xaxis\":\"x\",\"y\":[0.87527352297593],\"yaxis\":\"y\",\"type\":\"bar\"},{\"alignmentgroup\":\"True\",\"hovertemplate\":\"Author=%{text}<br>camefrom=%{x}<br>percentage=%{y}<extra></extra>\",\"legendgroup\":\"Independent\",\"marker\":{\"color\":\"#FF97FF\",\"pattern\":{\"shape\":\"\"}},\"name\":\"Independent\",\"offsetgroup\":\"Independent\",\"orientation\":\"v\",\"showlegend\":true,\"text\":[\"Independent\"],\"textposition\":\"auto\",\"x\":[\"newsAPI\"],\"xaxis\":\"x\",\"y\":[6.3457330415754925],\"yaxis\":\"y\",\"type\":\"bar\"},{\"alignmentgroup\":\"True\",\"hovertemplate\":\"Author=%{text}<br>camefrom=%{x}<br>percentage=%{y}<extra></extra>\",\"legendgroup\":\"International Business Times\",\"marker\":{\"color\":\"#FECB52\",\"pattern\":{\"shape\":\"\"}},\"name\":\"International Business Times\",\"offsetgroup\":\"International Business Times\",\"orientation\":\"v\",\"showlegend\":true,\"text\":[\"International Business Times\"],\"textposition\":\"auto\",\"x\":[\"newsAPI\"],\"xaxis\":\"x\",\"y\":[3.282275711159737],\"yaxis\":\"y\",\"type\":\"bar\"},{\"alignmentgroup\":\"True\",\"hovertemplate\":\"Author=%{text}<br>camefrom=%{x}<br>percentage=%{y}<extra></extra>\",\"legendgroup\":\"Los Angeles Times\",\"marker\":{\"color\":\"#636efa\",\"pattern\":{\"shape\":\"\"}},\"name\":\"Los Angeles Times\",\"offsetgroup\":\"Los Angeles Times\",\"orientation\":\"v\",\"showlegend\":true,\"text\":[\"Los Angeles Times\"],\"textposition\":\"auto\",\"x\":[\"newsAPI\"],\"xaxis\":\"x\",\"y\":[0.87527352297593],\"yaxis\":\"y\",\"type\":\"bar\"},{\"alignmentgroup\":\"True\",\"hovertemplate\":\"Author=%{text}<br>camefrom=%{x}<br>percentage=%{y}<extra></extra>\",\"legendgroup\":\"MakeUseOf\",\"marker\":{\"color\":\"#EF553B\",\"pattern\":{\"shape\":\"\"}},\"name\":\"MakeUseOf\",\"offsetgroup\":\"MakeUseOf\",\"orientation\":\"v\",\"showlegend\":true,\"text\":[\"MakeUseOf\"],\"textposition\":\"auto\",\"x\":[\"newsAPI\"],\"xaxis\":\"x\",\"y\":[1.0940919037199124],\"yaxis\":\"y\",\"type\":\"bar\"},{\"alignmentgroup\":\"True\",\"hovertemplate\":\"Author=%{text}<br>camefrom=%{x}<br>percentage=%{y}<extra></extra>\",\"legendgroup\":\"Mirror Online\",\"marker\":{\"color\":\"#00cc96\",\"pattern\":{\"shape\":\"\"}},\"name\":\"Mirror Online\",\"offsetgroup\":\"Mirror Online\",\"orientation\":\"v\",\"showlegend\":true,\"text\":[\"Mirror Online\"],\"textposition\":\"auto\",\"x\":[\"newsAPI\"],\"xaxis\":\"x\",\"y\":[1.0940919037199124],\"yaxis\":\"y\",\"type\":\"bar\"},{\"alignmentgroup\":\"True\",\"hovertemplate\":\"Author=%{text}<br>camefrom=%{x}<br>percentage=%{y}<extra></extra>\",\"legendgroup\":\"Motley Fool\",\"marker\":{\"color\":\"#ab63fa\",\"pattern\":{\"shape\":\"\"}},\"name\":\"Motley Fool\",\"offsetgroup\":\"Motley Fool\",\"orientation\":\"v\",\"showlegend\":true,\"text\":[\"Motley Fool\"],\"textposition\":\"auto\",\"x\":[\"newsAPI\"],\"xaxis\":\"x\",\"y\":[3.063457330415755],\"yaxis\":\"y\",\"type\":\"bar\"},{\"alignmentgroup\":\"True\",\"hovertemplate\":\"Author=%{text}<br>camefrom=%{x}<br>percentage=%{y}<extra></extra>\",\"legendgroup\":\"Nature.com\",\"marker\":{\"color\":\"#FFA15A\",\"pattern\":{\"shape\":\"\"}},\"name\":\"Nature.com\",\"offsetgroup\":\"Nature.com\",\"orientation\":\"v\",\"showlegend\":true,\"text\":[\"Nature.com\"],\"textposition\":\"auto\",\"x\":[\"newsAPI\"],\"xaxis\":\"x\",\"y\":[3.7199124726477026],\"yaxis\":\"y\",\"type\":\"bar\"},{\"alignmentgroup\":\"True\",\"hovertemplate\":\"Author=%{text}<br>camefrom=%{x}<br>percentage=%{y}<extra></extra>\",\"legendgroup\":\"New York Post\",\"marker\":{\"color\":\"#19d3f3\",\"pattern\":{\"shape\":\"\"}},\"name\":\"New York Post\",\"offsetgroup\":\"New York Post\",\"orientation\":\"v\",\"showlegend\":true,\"text\":[\"New York Post\"],\"textposition\":\"auto\",\"x\":[\"newsAPI\"],\"xaxis\":\"x\",\"y\":[0.87527352297593],\"yaxis\":\"y\",\"type\":\"bar\"},{\"alignmentgroup\":\"True\",\"hovertemplate\":\"Author=%{text}<br>camefrom=%{x}<br>percentage=%{y}<extra></extra>\",\"legendgroup\":\"OnMSFT\",\"marker\":{\"color\":\"#FF6692\",\"pattern\":{\"shape\":\"\"}},\"name\":\"OnMSFT\",\"offsetgroup\":\"OnMSFT\",\"orientation\":\"v\",\"showlegend\":true,\"text\":[\"OnMSFT\"],\"textposition\":\"auto\",\"x\":[\"newsAPI\"],\"xaxis\":\"x\",\"y\":[3.50109409190372],\"yaxis\":\"y\",\"type\":\"bar\"},{\"alignmentgroup\":\"True\",\"hovertemplate\":\"Author=%{text}<br>camefrom=%{x}<br>percentage=%{y}<extra></extra>\",\"legendgroup\":\"Politico\",\"marker\":{\"color\":\"#B6E880\",\"pattern\":{\"shape\":\"\"}},\"name\":\"Politico\",\"offsetgroup\":\"Politico\",\"orientation\":\"v\",\"showlegend\":true,\"text\":[\"Politico\"],\"textposition\":\"auto\",\"x\":[\"newsAPI\"],\"xaxis\":\"x\",\"y\":[1.75054704595186],\"yaxis\":\"y\",\"type\":\"bar\"},{\"alignmentgroup\":\"True\",\"hovertemplate\":\"Author=%{text}<br>camefrom=%{x}<br>percentage=%{y}<extra></extra>\",\"legendgroup\":\"RT\",\"marker\":{\"color\":\"#FF97FF\",\"pattern\":{\"shape\":\"\"}},\"name\":\"RT\",\"offsetgroup\":\"RT\",\"orientation\":\"v\",\"showlegend\":true,\"text\":[\"RT\"],\"textposition\":\"auto\",\"x\":[\"newsAPI\"],\"xaxis\":\"x\",\"y\":[2.4070021881838075],\"yaxis\":\"y\",\"type\":\"bar\"},{\"alignmentgroup\":\"True\",\"hovertemplate\":\"Author=%{text}<br>camefrom=%{x}<br>percentage=%{y}<extra></extra>\",\"legendgroup\":\"Seeking Alpha\",\"marker\":{\"color\":\"#FECB52\",\"pattern\":{\"shape\":\"\"}},\"name\":\"Seeking Alpha\",\"offsetgroup\":\"Seeking Alpha\",\"orientation\":\"v\",\"showlegend\":true,\"text\":[\"Seeking Alpha\"],\"textposition\":\"auto\",\"x\":[\"newsAPI\"],\"xaxis\":\"x\",\"y\":[1.0940919037199124],\"yaxis\":\"y\",\"type\":\"bar\"},{\"alignmentgroup\":\"True\",\"hovertemplate\":\"Author=%{text}<br>camefrom=%{x}<br>percentage=%{y}<extra></extra>\",\"legendgroup\":\"Slashdot.org\",\"marker\":{\"color\":\"#636efa\",\"pattern\":{\"shape\":\"\"}},\"name\":\"Slashdot.org\",\"offsetgroup\":\"Slashdot.org\",\"orientation\":\"v\",\"showlegend\":true,\"text\":[\"Slashdot.org\"],\"textposition\":\"auto\",\"x\":[\"newsAPI\"],\"xaxis\":\"x\",\"y\":[4.595185995623632],\"yaxis\":\"y\",\"type\":\"bar\"},{\"alignmentgroup\":\"True\",\"hovertemplate\":\"Author=%{text}<br>camefrom=%{x}<br>percentage=%{y}<extra></extra>\",\"legendgroup\":\"TechRadar\",\"marker\":{\"color\":\"#EF553B\",\"pattern\":{\"shape\":\"\"}},\"name\":\"TechRadar\",\"offsetgroup\":\"TechRadar\",\"orientation\":\"v\",\"showlegend\":true,\"text\":[\"TechRadar\"],\"textposition\":\"auto\",\"x\":[\"newsAPI\"],\"xaxis\":\"x\",\"y\":[2.1881838074398248],\"yaxis\":\"y\",\"type\":\"bar\"},{\"alignmentgroup\":\"True\",\"hovertemplate\":\"Author=%{text}<br>camefrom=%{x}<br>percentage=%{y}<extra></extra>\",\"legendgroup\":\"Telegraph.co.uk\",\"marker\":{\"color\":\"#00cc96\",\"pattern\":{\"shape\":\"\"}},\"name\":\"Telegraph.co.uk\",\"offsetgroup\":\"Telegraph.co.uk\",\"orientation\":\"v\",\"showlegend\":true,\"text\":[\"Telegraph.co.uk\"],\"textposition\":\"auto\",\"x\":[\"newsAPI\"],\"xaxis\":\"x\",\"y\":[1.0940919037199124],\"yaxis\":\"y\",\"type\":\"bar\"},{\"alignmentgroup\":\"True\",\"hovertemplate\":\"Author=%{text}<br>camefrom=%{x}<br>percentage=%{y}<extra></extra>\",\"legendgroup\":\"The Guardian\",\"marker\":{\"color\":\"#ab63fa\",\"pattern\":{\"shape\":\"\"}},\"name\":\"The Guardian\",\"offsetgroup\":\"The Guardian\",\"orientation\":\"v\",\"showlegend\":true,\"text\":[\"The Guardian\"],\"textposition\":\"auto\",\"x\":[\"newsAPI\"],\"xaxis\":\"x\",\"y\":[8.315098468271334],\"yaxis\":\"y\",\"type\":\"bar\"},{\"alignmentgroup\":\"True\",\"hovertemplate\":\"Author=%{text}<br>camefrom=%{x}<br>percentage=%{y}<extra></extra>\",\"legendgroup\":\"The Indian Express\",\"marker\":{\"color\":\"#FFA15A\",\"pattern\":{\"shape\":\"\"}},\"name\":\"The Indian Express\",\"offsetgroup\":\"The Indian Express\",\"orientation\":\"v\",\"showlegend\":true,\"text\":[\"The Indian Express\"],\"textposition\":\"auto\",\"x\":[\"newsAPI\"],\"xaxis\":\"x\",\"y\":[1.312910284463895],\"yaxis\":\"y\",\"type\":\"bar\"},{\"alignmentgroup\":\"True\",\"hovertemplate\":\"Author=%{text}<br>camefrom=%{x}<br>percentage=%{y}<extra></extra>\",\"legendgroup\":\"The Times of India\",\"marker\":{\"color\":\"#19d3f3\",\"pattern\":{\"shape\":\"\"}},\"name\":\"The Times of India\",\"offsetgroup\":\"The Times of India\",\"orientation\":\"v\",\"showlegend\":true,\"text\":[\"The Times of India\"],\"textposition\":\"auto\",\"x\":[\"newsAPI\"],\"xaxis\":\"x\",\"y\":[1.0940919037199124],\"yaxis\":\"y\",\"type\":\"bar\"},{\"alignmentgroup\":\"True\",\"hovertemplate\":\"Author=%{text}<br>camefrom=%{x}<br>percentage=%{y}<extra></extra>\",\"legendgroup\":\"Theregister.com\",\"marker\":{\"color\":\"#FF6692\",\"pattern\":{\"shape\":\"\"}},\"name\":\"Theregister.com\",\"offsetgroup\":\"Theregister.com\",\"orientation\":\"v\",\"showlegend\":true,\"text\":[\"Theregister.com\"],\"textposition\":\"auto\",\"x\":[\"newsAPI\"],\"xaxis\":\"x\",\"y\":[1.0940919037199124],\"yaxis\":\"y\",\"type\":\"bar\"},{\"alignmentgroup\":\"True\",\"hovertemplate\":\"Author=%{text}<br>camefrom=%{x}<br>percentage=%{y}<extra></extra>\",\"legendgroup\":\"VOA News\",\"marker\":{\"color\":\"#B6E880\",\"pattern\":{\"shape\":\"\"}},\"name\":\"VOA News\",\"offsetgroup\":\"VOA News\",\"orientation\":\"v\",\"showlegend\":true,\"text\":[\"VOA News\"],\"textposition\":\"auto\",\"x\":[\"newsAPI\"],\"xaxis\":\"x\",\"y\":[1.0940919037199124],\"yaxis\":\"y\",\"type\":\"bar\"},{\"alignmentgroup\":\"True\",\"hovertemplate\":\"Author=%{text}<br>camefrom=%{x}<br>percentage=%{y}<extra></extra>\",\"legendgroup\":\"Yahoo Entertainment\",\"marker\":{\"color\":\"#FF97FF\",\"pattern\":{\"shape\":\"\"}},\"name\":\"Yahoo Entertainment\",\"offsetgroup\":\"Yahoo Entertainment\",\"orientation\":\"v\",\"showlegend\":true,\"text\":[\"Yahoo Entertainment\"],\"textposition\":\"auto\",\"x\":[\"newsAPI\"],\"xaxis\":\"x\",\"y\":[6.3457330415754925],\"yaxis\":\"y\",\"type\":\"bar\"},{\"alignmentgroup\":\"True\",\"hovertemplate\":\"Author=%{text}<br>camefrom=%{x}<br>percentage=%{y}<extra></extra>\",\"legendgroup\":\"AB Newswire\",\"marker\":{\"color\":\"#FECB52\",\"pattern\":{\"shape\":\"\"}},\"name\":\"AB Newswire\",\"offsetgroup\":\"AB Newswire\",\"orientation\":\"v\",\"showlegend\":true,\"text\":[\"AB Newswire\"],\"textposition\":\"auto\",\"x\":[\"newsCatcher\"],\"xaxis\":\"x\",\"y\":[7.547169811320755],\"yaxis\":\"y\",\"type\":\"bar\"},{\"alignmentgroup\":\"True\",\"hovertemplate\":\"Author=%{text}<br>camefrom=%{x}<br>percentage=%{y}<extra></extra>\",\"legendgroup\":\"AOL Staff\",\"marker\":{\"color\":\"#636efa\",\"pattern\":{\"shape\":\"\"}},\"name\":\"AOL Staff\",\"offsetgroup\":\"AOL Staff\",\"orientation\":\"v\",\"showlegend\":true,\"text\":[\"AOL Staff\"],\"textposition\":\"auto\",\"x\":[\"newsCatcher\"],\"xaxis\":\"x\",\"y\":[9.433962264150944],\"yaxis\":\"y\",\"type\":\"bar\"},{\"alignmentgroup\":\"True\",\"hovertemplate\":\"Author=%{text}<br>camefrom=%{x}<br>percentage=%{y}<extra></extra>\",\"legendgroup\":\"Danita Yadav\",\"marker\":{\"color\":\"#EF553B\",\"pattern\":{\"shape\":\"\"}},\"name\":\"Danita Yadav\",\"offsetgroup\":\"Danita Yadav\",\"orientation\":\"v\",\"showlegend\":true,\"text\":[\"Danita Yadav\"],\"textposition\":\"auto\",\"x\":[\"newsCatcher\"],\"xaxis\":\"x\",\"y\":[13.20754716981132],\"yaxis\":\"y\",\"type\":\"bar\"},{\"alignmentgroup\":\"True\",\"hovertemplate\":\"Author=%{text}<br>camefrom=%{x}<br>percentage=%{y}<extra></extra>\",\"legendgroup\":\"Mark Harris\",\"marker\":{\"color\":\"#00cc96\",\"pattern\":{\"shape\":\"\"}},\"name\":\"Mark Harris\",\"offsetgroup\":\"Mark Harris\",\"orientation\":\"v\",\"showlegend\":true,\"text\":[\"Mark Harris\"],\"textposition\":\"auto\",\"x\":[\"newsCatcher\"],\"xaxis\":\"x\",\"y\":[7.547169811320755],\"yaxis\":\"y\",\"type\":\"bar\"},{\"alignmentgroup\":\"True\",\"hovertemplate\":\"Author=%{text}<br>camefrom=%{x}<br>percentage=%{y}<extra></extra>\",\"legendgroup\":\"Reuters\",\"marker\":{\"color\":\"#ab63fa\",\"pattern\":{\"shape\":\"\"}},\"name\":\"Reuters\",\"offsetgroup\":\"Reuters\",\"orientation\":\"v\",\"showlegend\":true,\"text\":[\"Reuters\"],\"textposition\":\"auto\",\"x\":[\"newsCatcher\"],\"xaxis\":\"x\",\"y\":[13.20754716981132],\"yaxis\":\"y\",\"type\":\"bar\"},{\"alignmentgroup\":\"True\",\"hovertemplate\":\"Author=%{text}<br>camefrom=%{x}<br>percentage=%{y}<extra></extra>\",\"legendgroup\":\"Sputnik International\",\"marker\":{\"color\":\"#FFA15A\",\"pattern\":{\"shape\":\"\"}},\"name\":\"Sputnik International\",\"offsetgroup\":\"Sputnik International\",\"orientation\":\"v\",\"showlegend\":true,\"text\":[\"Sputnik International\"],\"textposition\":\"auto\",\"x\":[\"newsCatcher\"],\"xaxis\":\"x\",\"y\":[20.754716981132077],\"yaxis\":\"y\",\"type\":\"bar\"},{\"alignmentgroup\":\"True\",\"hovertemplate\":\"Author=%{text}<br>camefrom=%{x}<br>percentage=%{y}<extra></extra>\",\"legendgroup\":\"Sputnik Italia\",\"marker\":{\"color\":\"#19d3f3\",\"pattern\":{\"shape\":\"\"}},\"name\":\"Sputnik Italia\",\"offsetgroup\":\"Sputnik Italia\",\"orientation\":\"v\",\"showlegend\":true,\"text\":[\"Sputnik Italia\"],\"textposition\":\"auto\",\"x\":[\"newsCatcher\"],\"xaxis\":\"x\",\"y\":[7.547169811320755],\"yaxis\":\"y\",\"type\":\"bar\"},{\"alignmentgroup\":\"True\",\"hovertemplate\":\"Author=%{text}<br>camefrom=%{x}<br>percentage=%{y}<extra></extra>\",\"legendgroup\":\"Wendell Huseb\\u00f8\",\"marker\":{\"color\":\"#FF6692\",\"pattern\":{\"shape\":\"\"}},\"name\":\"Wendell Huseb\\u00f8\",\"offsetgroup\":\"Wendell Huseb\\u00f8\",\"orientation\":\"v\",\"showlegend\":true,\"text\":[\"Wendell Huseb\\u00f8\"],\"textposition\":\"auto\",\"x\":[\"newsCatcher\"],\"xaxis\":\"x\",\"y\":[9.433962264150944],\"yaxis\":\"y\",\"type\":\"bar\"},{\"alignmentgroup\":\"True\",\"hovertemplate\":\"Author=%{text}<br>camefrom=%{x}<br>percentage=%{y}<extra></extra>\",\"legendgroup\":\"Zazoom Social News\",\"marker\":{\"color\":\"#B6E880\",\"pattern\":{\"shape\":\"\"}},\"name\":\"Zazoom Social News\",\"offsetgroup\":\"Zazoom Social News\",\"orientation\":\"v\",\"showlegend\":true,\"text\":[\"Zazoom Social News\"],\"textposition\":\"auto\",\"x\":[\"newsCatcher\"],\"xaxis\":\"x\",\"y\":[11.320754716981133],\"yaxis\":\"y\",\"type\":\"bar\"}],                        {\"template\":{\"data\":{\"bar\":[{\"error_x\":{\"color\":\"#2a3f5f\"},\"error_y\":{\"color\":\"#2a3f5f\"},\"marker\":{\"line\":{\"color\":\"#E5ECF6\",\"width\":0.5},\"pattern\":{\"fillmode\":\"overlay\",\"size\":10,\"solidity\":0.2}},\"type\":\"bar\"}],\"barpolar\":[{\"marker\":{\"line\":{\"color\":\"#E5ECF6\",\"width\":0.5},\"pattern\":{\"fillmode\":\"overlay\",\"size\":10,\"solidity\":0.2}},\"type\":\"barpolar\"}],\"carpet\":[{\"aaxis\":{\"endlinecolor\":\"#2a3f5f\",\"gridcolor\":\"white\",\"linecolor\":\"white\",\"minorgridcolor\":\"white\",\"startlinecolor\":\"#2a3f5f\"},\"baxis\":{\"endlinecolor\":\"#2a3f5f\",\"gridcolor\":\"white\",\"linecolor\":\"white\",\"minorgridcolor\":\"white\",\"startlinecolor\":\"#2a3f5f\"},\"type\":\"carpet\"}],\"choropleth\":[{\"colorbar\":{\"outlinewidth\":0,\"ticks\":\"\"},\"type\":\"choropleth\"}],\"contour\":[{\"colorbar\":{\"outlinewidth\":0,\"ticks\":\"\"},\"colorscale\":[[0.0,\"#0d0887\"],[0.1111111111111111,\"#46039f\"],[0.2222222222222222,\"#7201a8\"],[0.3333333333333333,\"#9c179e\"],[0.4444444444444444,\"#bd3786\"],[0.5555555555555556,\"#d8576b\"],[0.6666666666666666,\"#ed7953\"],[0.7777777777777778,\"#fb9f3a\"],[0.8888888888888888,\"#fdca26\"],[1.0,\"#f0f921\"]],\"type\":\"contour\"}],\"contourcarpet\":[{\"colorbar\":{\"outlinewidth\":0,\"ticks\":\"\"},\"type\":\"contourcarpet\"}],\"heatmap\":[{\"colorbar\":{\"outlinewidth\":0,\"ticks\":\"\"},\"colorscale\":[[0.0,\"#0d0887\"],[0.1111111111111111,\"#46039f\"],[0.2222222222222222,\"#7201a8\"],[0.3333333333333333,\"#9c179e\"],[0.4444444444444444,\"#bd3786\"],[0.5555555555555556,\"#d8576b\"],[0.6666666666666666,\"#ed7953\"],[0.7777777777777778,\"#fb9f3a\"],[0.8888888888888888,\"#fdca26\"],[1.0,\"#f0f921\"]],\"type\":\"heatmap\"}],\"heatmapgl\":[{\"colorbar\":{\"outlinewidth\":0,\"ticks\":\"\"},\"colorscale\":[[0.0,\"#0d0887\"],[0.1111111111111111,\"#46039f\"],[0.2222222222222222,\"#7201a8\"],[0.3333333333333333,\"#9c179e\"],[0.4444444444444444,\"#bd3786\"],[0.5555555555555556,\"#d8576b\"],[0.6666666666666666,\"#ed7953\"],[0.7777777777777778,\"#fb9f3a\"],[0.8888888888888888,\"#fdca26\"],[1.0,\"#f0f921\"]],\"type\":\"heatmapgl\"}],\"histogram\":[{\"marker\":{\"pattern\":{\"fillmode\":\"overlay\",\"size\":10,\"solidity\":0.2}},\"type\":\"histogram\"}],\"histogram2d\":[{\"colorbar\":{\"outlinewidth\":0,\"ticks\":\"\"},\"colorscale\":[[0.0,\"#0d0887\"],[0.1111111111111111,\"#46039f\"],[0.2222222222222222,\"#7201a8\"],[0.3333333333333333,\"#9c179e\"],[0.4444444444444444,\"#bd3786\"],[0.5555555555555556,\"#d8576b\"],[0.6666666666666666,\"#ed7953\"],[0.7777777777777778,\"#fb9f3a\"],[0.8888888888888888,\"#fdca26\"],[1.0,\"#f0f921\"]],\"type\":\"histogram2d\"}],\"histogram2dcontour\":[{\"colorbar\":{\"outlinewidth\":0,\"ticks\":\"\"},\"colorscale\":[[0.0,\"#0d0887\"],[0.1111111111111111,\"#46039f\"],[0.2222222222222222,\"#7201a8\"],[0.3333333333333333,\"#9c179e\"],[0.4444444444444444,\"#bd3786\"],[0.5555555555555556,\"#d8576b\"],[0.6666666666666666,\"#ed7953\"],[0.7777777777777778,\"#fb9f3a\"],[0.8888888888888888,\"#fdca26\"],[1.0,\"#f0f921\"]],\"type\":\"histogram2dcontour\"}],\"mesh3d\":[{\"colorbar\":{\"outlinewidth\":0,\"ticks\":\"\"},\"type\":\"mesh3d\"}],\"parcoords\":[{\"line\":{\"colorbar\":{\"outlinewidth\":0,\"ticks\":\"\"}},\"type\":\"parcoords\"}],\"pie\":[{\"automargin\":true,\"type\":\"pie\"}],\"scatter\":[{\"marker\":{\"colorbar\":{\"outlinewidth\":0,\"ticks\":\"\"}},\"type\":\"scatter\"}],\"scatter3d\":[{\"line\":{\"colorbar\":{\"outlinewidth\":0,\"ticks\":\"\"}},\"marker\":{\"colorbar\":{\"outlinewidth\":0,\"ticks\":\"\"}},\"type\":\"scatter3d\"}],\"scattercarpet\":[{\"marker\":{\"colorbar\":{\"outlinewidth\":0,\"ticks\":\"\"}},\"type\":\"scattercarpet\"}],\"scattergeo\":[{\"marker\":{\"colorbar\":{\"outlinewidth\":0,\"ticks\":\"\"}},\"type\":\"scattergeo\"}],\"scattergl\":[{\"marker\":{\"colorbar\":{\"outlinewidth\":0,\"ticks\":\"\"}},\"type\":\"scattergl\"}],\"scattermapbox\":[{\"marker\":{\"colorbar\":{\"outlinewidth\":0,\"ticks\":\"\"}},\"type\":\"scattermapbox\"}],\"scatterpolar\":[{\"marker\":{\"colorbar\":{\"outlinewidth\":0,\"ticks\":\"\"}},\"type\":\"scatterpolar\"}],\"scatterpolargl\":[{\"marker\":{\"colorbar\":{\"outlinewidth\":0,\"ticks\":\"\"}},\"type\":\"scatterpolargl\"}],\"scatterternary\":[{\"marker\":{\"colorbar\":{\"outlinewidth\":0,\"ticks\":\"\"}},\"type\":\"scatterternary\"}],\"surface\":[{\"colorbar\":{\"outlinewidth\":0,\"ticks\":\"\"},\"colorscale\":[[0.0,\"#0d0887\"],[0.1111111111111111,\"#46039f\"],[0.2222222222222222,\"#7201a8\"],[0.3333333333333333,\"#9c179e\"],[0.4444444444444444,\"#bd3786\"],[0.5555555555555556,\"#d8576b\"],[0.6666666666666666,\"#ed7953\"],[0.7777777777777778,\"#fb9f3a\"],[0.8888888888888888,\"#fdca26\"],[1.0,\"#f0f921\"]],\"type\":\"surface\"}],\"table\":[{\"cells\":{\"fill\":{\"color\":\"#EBF0F8\"},\"line\":{\"color\":\"white\"}},\"header\":{\"fill\":{\"color\":\"#C8D4E3\"},\"line\":{\"color\":\"white\"}},\"type\":\"table\"}]},\"layout\":{\"annotationdefaults\":{\"arrowcolor\":\"#2a3f5f\",\"arrowhead\":0,\"arrowwidth\":1},\"autotypenumbers\":\"strict\",\"coloraxis\":{\"colorbar\":{\"outlinewidth\":0,\"ticks\":\"\"}},\"colorscale\":{\"diverging\":[[0,\"#8e0152\"],[0.1,\"#c51b7d\"],[0.2,\"#de77ae\"],[0.3,\"#f1b6da\"],[0.4,\"#fde0ef\"],[0.5,\"#f7f7f7\"],[0.6,\"#e6f5d0\"],[0.7,\"#b8e186\"],[0.8,\"#7fbc41\"],[0.9,\"#4d9221\"],[1,\"#276419\"]],\"sequential\":[[0.0,\"#0d0887\"],[0.1111111111111111,\"#46039f\"],[0.2222222222222222,\"#7201a8\"],[0.3333333333333333,\"#9c179e\"],[0.4444444444444444,\"#bd3786\"],[0.5555555555555556,\"#d8576b\"],[0.6666666666666666,\"#ed7953\"],[0.7777777777777778,\"#fb9f3a\"],[0.8888888888888888,\"#fdca26\"],[1.0,\"#f0f921\"]],\"sequentialminus\":[[0.0,\"#0d0887\"],[0.1111111111111111,\"#46039f\"],[0.2222222222222222,\"#7201a8\"],[0.3333333333333333,\"#9c179e\"],[0.4444444444444444,\"#bd3786\"],[0.5555555555555556,\"#d8576b\"],[0.6666666666666666,\"#ed7953\"],[0.7777777777777778,\"#fb9f3a\"],[0.8888888888888888,\"#fdca26\"],[1.0,\"#f0f921\"]]},\"colorway\":[\"#636efa\",\"#EF553B\",\"#00cc96\",\"#ab63fa\",\"#FFA15A\",\"#19d3f3\",\"#FF6692\",\"#B6E880\",\"#FF97FF\",\"#FECB52\"],\"font\":{\"color\":\"#2a3f5f\"},\"geo\":{\"bgcolor\":\"white\",\"lakecolor\":\"white\",\"landcolor\":\"#E5ECF6\",\"showlakes\":true,\"showland\":true,\"subunitcolor\":\"white\"},\"hoverlabel\":{\"align\":\"left\"},\"hovermode\":\"closest\",\"mapbox\":{\"style\":\"light\"},\"paper_bgcolor\":\"white\",\"plot_bgcolor\":\"#E5ECF6\",\"polar\":{\"angularaxis\":{\"gridcolor\":\"white\",\"linecolor\":\"white\",\"ticks\":\"\"},\"bgcolor\":\"#E5ECF6\",\"radialaxis\":{\"gridcolor\":\"white\",\"linecolor\":\"white\",\"ticks\":\"\"}},\"scene\":{\"xaxis\":{\"backgroundcolor\":\"#E5ECF6\",\"gridcolor\":\"white\",\"gridwidth\":2,\"linecolor\":\"white\",\"showbackground\":true,\"ticks\":\"\",\"zerolinecolor\":\"white\"},\"yaxis\":{\"backgroundcolor\":\"#E5ECF6\",\"gridcolor\":\"white\",\"gridwidth\":2,\"linecolor\":\"white\",\"showbackground\":true,\"ticks\":\"\",\"zerolinecolor\":\"white\"},\"zaxis\":{\"backgroundcolor\":\"#E5ECF6\",\"gridcolor\":\"white\",\"gridwidth\":2,\"linecolor\":\"white\",\"showbackground\":true,\"ticks\":\"\",\"zerolinecolor\":\"white\"}},\"shapedefaults\":{\"line\":{\"color\":\"#2a3f5f\"}},\"ternary\":{\"aaxis\":{\"gridcolor\":\"white\",\"linecolor\":\"white\",\"ticks\":\"\"},\"baxis\":{\"gridcolor\":\"white\",\"linecolor\":\"white\",\"ticks\":\"\"},\"bgcolor\":\"#E5ECF6\",\"caxis\":{\"gridcolor\":\"white\",\"linecolor\":\"white\",\"ticks\":\"\"}},\"title\":{\"x\":0.05},\"xaxis\":{\"automargin\":true,\"gridcolor\":\"white\",\"linecolor\":\"white\",\"ticks\":\"\",\"title\":{\"standoff\":15},\"zerolinecolor\":\"white\",\"zerolinewidth\":2},\"yaxis\":{\"automargin\":true,\"gridcolor\":\"white\",\"linecolor\":\"white\",\"ticks\":\"\",\"title\":{\"standoff\":15},\"zerolinecolor\":\"white\",\"zerolinewidth\":2}}},\"xaxis\":{\"anchor\":\"y\",\"domain\":[0.0,1.0],\"title\":{\"text\":\"camefrom\"}},\"yaxis\":{\"anchor\":\"x\",\"domain\":[0.0,1.0],\"title\":{\"text\":\"percentage\"}},\"legend\":{\"title\":{\"text\":\"Author\"},\"tracegroupgap\":0},\"title\":{\"text\":\"Articles' Sources, from APIs\"},\"barmode\":\"relative\"},                        {\"responsive\": true}                    ).then(function(){\n",
              "                            \n",
              "var gd = document.getElementById('e60b0823-c39c-44cc-878b-e3e62270a8e7');\n",
              "var x = new MutationObserver(function (mutations, observer) {{\n",
              "        var display = window.getComputedStyle(gd).display;\n",
              "        if (!display || display === 'none') {{\n",
              "            console.log([gd, 'removed!']);\n",
              "            Plotly.purge(gd);\n",
              "            observer.disconnect();\n",
              "        }}\n",
              "}});\n",
              "\n",
              "// Listen for the removal of the full notebook cells\n",
              "var notebookContainer = gd.closest('#notebook-container');\n",
              "if (notebookContainer) {{\n",
              "    x.observe(notebookContainer, {childList: true});\n",
              "}}\n",
              "\n",
              "// Listen for the clearing of the current output cell\n",
              "var outputEl = gd.closest('.output');\n",
              "if (outputEl) {{\n",
              "    x.observe(outputEl, {childList: true});\n",
              "}}\n",
              "\n",
              "                        })                };                            </script>        </div>\n",
              "</body>\n",
              "</html>"
            ]
          },
          "metadata": {}
        }
      ]
    },
    {
      "cell_type": "markdown",
      "source": [
        "# Find Duplicates\n",
        "- Articles from Bing news API is normally overlapped with other sources. especially with News API and Google News.\n",
        "- While News API collects more than 700 articles and have less than 50 duplicates, and Bing News API collects about 100 / Google News API collects 80 Articles, but they have about 60 duplicates / 40 duplicates."
      ],
      "metadata": {
        "id": "va1Wvhp-NSGf"
      }
    },
    {
      "cell_type": "code",
      "source": [
        "df4 = df[df.duplicated(subset = ['Title'], keep = False)].sort_values(['Title']).reset_index()\n",
        "df4[['Title','camefrom']].sort_values('camefrom').groupby(['Title'])['camefrom'].transform(lambda x: ','.join(x)).reset_index().groupby('camefrom').count().sort_values('index', ascending = False)\n",
        "df4.rename(columns={\"camefrom\": \"Source\", \"index\" : \"Count of Duplicated (Combination)\"}, inplace = True)"
      ],
      "metadata": {
        "colab": {
          "base_uri": "https://localhost:8080/",
          "height": 425
        },
        "id": "DKOzsQbEIreh",
        "outputId": "7ae34789-e954-4142-ce93-3ab99a580aff"
      },
      "execution_count": 34,
      "outputs": [
        {
          "output_type": "execute_result",
          "data": {
            "text/plain": [
              "                                 index\n",
              "camefrom                              \n",
              "BingNews,newsAPI                    22\n",
              "BingNews,GoogleNews                 20\n",
              "BingNews,GoogleNews,newsAPI          9\n",
              "BingNews,newsCatcher                 8\n",
              "GoogleNews,newsCatcher               8\n",
              "BingNews,GoogleNews,newsCatcher      6\n",
              "newsAPI,newsCatcher                  6\n",
              "GoogleNews,newsAPI                   4\n",
              "BingNews,newsAPI,newsCatcher         3\n",
              "GoogleNews,NYTimes                   2\n",
              "NYTimes,newsAPI                      2"
            ],
            "text/html": [
              "\n",
              "  <div id=\"df-f3e0f823-4a94-4c9c-bd8c-58dd6c020cf6\">\n",
              "    <div class=\"colab-df-container\">\n",
              "      <div>\n",
              "<style scoped>\n",
              "    .dataframe tbody tr th:only-of-type {\n",
              "        vertical-align: middle;\n",
              "    }\n",
              "\n",
              "    .dataframe tbody tr th {\n",
              "        vertical-align: top;\n",
              "    }\n",
              "\n",
              "    .dataframe thead th {\n",
              "        text-align: right;\n",
              "    }\n",
              "</style>\n",
              "<table border=\"1\" class=\"dataframe\">\n",
              "  <thead>\n",
              "    <tr style=\"text-align: right;\">\n",
              "      <th></th>\n",
              "      <th>index</th>\n",
              "    </tr>\n",
              "    <tr>\n",
              "      <th>camefrom</th>\n",
              "      <th></th>\n",
              "    </tr>\n",
              "  </thead>\n",
              "  <tbody>\n",
              "    <tr>\n",
              "      <th>BingNews,newsAPI</th>\n",
              "      <td>22</td>\n",
              "    </tr>\n",
              "    <tr>\n",
              "      <th>BingNews,GoogleNews</th>\n",
              "      <td>20</td>\n",
              "    </tr>\n",
              "    <tr>\n",
              "      <th>BingNews,GoogleNews,newsAPI</th>\n",
              "      <td>9</td>\n",
              "    </tr>\n",
              "    <tr>\n",
              "      <th>BingNews,newsCatcher</th>\n",
              "      <td>8</td>\n",
              "    </tr>\n",
              "    <tr>\n",
              "      <th>GoogleNews,newsCatcher</th>\n",
              "      <td>8</td>\n",
              "    </tr>\n",
              "    <tr>\n",
              "      <th>BingNews,GoogleNews,newsCatcher</th>\n",
              "      <td>6</td>\n",
              "    </tr>\n",
              "    <tr>\n",
              "      <th>newsAPI,newsCatcher</th>\n",
              "      <td>6</td>\n",
              "    </tr>\n",
              "    <tr>\n",
              "      <th>GoogleNews,newsAPI</th>\n",
              "      <td>4</td>\n",
              "    </tr>\n",
              "    <tr>\n",
              "      <th>BingNews,newsAPI,newsCatcher</th>\n",
              "      <td>3</td>\n",
              "    </tr>\n",
              "    <tr>\n",
              "      <th>GoogleNews,NYTimes</th>\n",
              "      <td>2</td>\n",
              "    </tr>\n",
              "    <tr>\n",
              "      <th>NYTimes,newsAPI</th>\n",
              "      <td>2</td>\n",
              "    </tr>\n",
              "  </tbody>\n",
              "</table>\n",
              "</div>\n",
              "      <button class=\"colab-df-convert\" onclick=\"convertToInteractive('df-f3e0f823-4a94-4c9c-bd8c-58dd6c020cf6')\"\n",
              "              title=\"Convert this dataframe to an interactive table.\"\n",
              "              style=\"display:none;\">\n",
              "        \n",
              "  <svg xmlns=\"http://www.w3.org/2000/svg\" height=\"24px\"viewBox=\"0 0 24 24\"\n",
              "       width=\"24px\">\n",
              "    <path d=\"M0 0h24v24H0V0z\" fill=\"none\"/>\n",
              "    <path d=\"M18.56 5.44l.94 2.06.94-2.06 2.06-.94-2.06-.94-.94-2.06-.94 2.06-2.06.94zm-11 1L8.5 8.5l.94-2.06 2.06-.94-2.06-.94L8.5 2.5l-.94 2.06-2.06.94zm10 10l.94 2.06.94-2.06 2.06-.94-2.06-.94-.94-2.06-.94 2.06-2.06.94z\"/><path d=\"M17.41 7.96l-1.37-1.37c-.4-.4-.92-.59-1.43-.59-.52 0-1.04.2-1.43.59L10.3 9.45l-7.72 7.72c-.78.78-.78 2.05 0 2.83L4 21.41c.39.39.9.59 1.41.59.51 0 1.02-.2 1.41-.59l7.78-7.78 2.81-2.81c.8-.78.8-2.07 0-2.86zM5.41 20L4 18.59l7.72-7.72 1.47 1.35L5.41 20z\"/>\n",
              "  </svg>\n",
              "      </button>\n",
              "      \n",
              "  <style>\n",
              "    .colab-df-container {\n",
              "      display:flex;\n",
              "      flex-wrap:wrap;\n",
              "      gap: 12px;\n",
              "    }\n",
              "\n",
              "    .colab-df-convert {\n",
              "      background-color: #E8F0FE;\n",
              "      border: none;\n",
              "      border-radius: 50%;\n",
              "      cursor: pointer;\n",
              "      display: none;\n",
              "      fill: #1967D2;\n",
              "      height: 32px;\n",
              "      padding: 0 0 0 0;\n",
              "      width: 32px;\n",
              "    }\n",
              "\n",
              "    .colab-df-convert:hover {\n",
              "      background-color: #E2EBFA;\n",
              "      box-shadow: 0px 1px 2px rgba(60, 64, 67, 0.3), 0px 1px 3px 1px rgba(60, 64, 67, 0.15);\n",
              "      fill: #174EA6;\n",
              "    }\n",
              "\n",
              "    [theme=dark] .colab-df-convert {\n",
              "      background-color: #3B4455;\n",
              "      fill: #D2E3FC;\n",
              "    }\n",
              "\n",
              "    [theme=dark] .colab-df-convert:hover {\n",
              "      background-color: #434B5C;\n",
              "      box-shadow: 0px 1px 3px 1px rgba(0, 0, 0, 0.15);\n",
              "      filter: drop-shadow(0px 1px 2px rgba(0, 0, 0, 0.3));\n",
              "      fill: #FFFFFF;\n",
              "    }\n",
              "  </style>\n",
              "\n",
              "      <script>\n",
              "        const buttonEl =\n",
              "          document.querySelector('#df-f3e0f823-4a94-4c9c-bd8c-58dd6c020cf6 button.colab-df-convert');\n",
              "        buttonEl.style.display =\n",
              "          google.colab.kernel.accessAllowed ? 'block' : 'none';\n",
              "\n",
              "        async function convertToInteractive(key) {\n",
              "          const element = document.querySelector('#df-f3e0f823-4a94-4c9c-bd8c-58dd6c020cf6');\n",
              "          const dataTable =\n",
              "            await google.colab.kernel.invokeFunction('convertToInteractive',\n",
              "                                                     [key], {});\n",
              "          if (!dataTable) return;\n",
              "\n",
              "          const docLinkHtml = 'Like what you see? Visit the ' +\n",
              "            '<a target=\"_blank\" href=https://colab.research.google.com/notebooks/data_table.ipynb>data table notebook</a>'\n",
              "            + ' to learn more about interactive tables.';\n",
              "          element.innerHTML = '';\n",
              "          dataTable['output_type'] = 'display_data';\n",
              "          await google.colab.output.renderOutput(dataTable, element);\n",
              "          const docLink = document.createElement('div');\n",
              "          docLink.innerHTML = docLinkHtml;\n",
              "          element.appendChild(docLink);\n",
              "        }\n",
              "      </script>\n",
              "    </div>\n",
              "  </div>\n",
              "  "
            ]
          },
          "metadata": {},
          "execution_count": 34
        }
      ]
    }
  ]
}